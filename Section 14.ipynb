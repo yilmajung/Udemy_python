{
 "cells": [
  {
   "cell_type": "markdown",
   "metadata": {},
   "source": [
    "## Advanced Python Modules"
   ]
  },
  {
   "cell_type": "markdown",
   "metadata": {},
   "source": [
    "### Decorator"
   ]
  },
  {
   "cell_type": "code",
   "execution_count": 1,
   "metadata": {},
   "outputs": [],
   "source": [
    "def cool():\n",
    "    def super_cool():\n",
    "        return 'I am very cool!'\n",
    "    return super_cool"
   ]
  },
  {
   "cell_type": "code",
   "execution_count": 7,
   "metadata": {},
   "outputs": [
    {
     "data": {
      "text/plain": [
       "<function __main__.cool.<locals>.super_cool()>"
      ]
     },
     "execution_count": 7,
     "metadata": {},
     "output_type": "execute_result"
    }
   ],
   "source": [
    "cool()"
   ]
  },
  {
   "cell_type": "code",
   "execution_count": 3,
   "metadata": {},
   "outputs": [],
   "source": [
    "some_func = cool()"
   ]
  },
  {
   "cell_type": "code",
   "execution_count": 5,
   "metadata": {},
   "outputs": [
    {
     "data": {
      "text/plain": [
       "<function __main__.cool.<locals>.super_cool()>"
      ]
     },
     "execution_count": 5,
     "metadata": {},
     "output_type": "execute_result"
    }
   ],
   "source": [
    "some_func"
   ]
  },
  {
   "cell_type": "code",
   "execution_count": 8,
   "metadata": {},
   "outputs": [
    {
     "data": {
      "text/plain": [
       "'I am very cool!'"
      ]
     },
     "execution_count": 8,
     "metadata": {},
     "output_type": "execute_result"
    }
   ],
   "source": [
    "some_func()"
   ]
  },
  {
   "cell_type": "code",
   "execution_count": 9,
   "metadata": {},
   "outputs": [],
   "source": [
    "def hello():\n",
    "    return \"Hi Wooyong!\""
   ]
  },
  {
   "cell_type": "code",
   "execution_count": 10,
   "metadata": {},
   "outputs": [],
   "source": [
    "def other(some_def_func):\n",
    "    print('Other code runs here!')\n",
    "    print(some_def_func())"
   ]
  },
  {
   "cell_type": "code",
   "execution_count": 12,
   "metadata": {},
   "outputs": [
    {
     "data": {
      "text/plain": [
       "'Hi Wooyong!'"
      ]
     },
     "execution_count": 12,
     "metadata": {},
     "output_type": "execute_result"
    }
   ],
   "source": [
    "hello()"
   ]
  },
  {
   "cell_type": "code",
   "execution_count": 13,
   "metadata": {},
   "outputs": [
    {
     "name": "stdout",
     "output_type": "stream",
     "text": [
      "Other code runs here!\n",
      "Hi Wooyong!\n"
     ]
    }
   ],
   "source": [
    "other(hello)"
   ]
  },
  {
   "cell_type": "code",
   "execution_count": 14,
   "metadata": {},
   "outputs": [],
   "source": [
    "def new_decorator(original_func):\n",
    "    \n",
    "    def wrap_func():\n",
    "        \n",
    "        print('Some extra code, before the original function')\n",
    "        \n",
    "        original_func()\n",
    "        \n",
    "        print('Some extra code, after the original function')\n",
    "    \n",
    "    return wrap_func"
   ]
  },
  {
   "cell_type": "code",
   "execution_count": 15,
   "metadata": {},
   "outputs": [],
   "source": [
    "def func_needs_decorator():\n",
    "    print(\"I want to be decorated!\")"
   ]
  },
  {
   "cell_type": "code",
   "execution_count": 16,
   "metadata": {},
   "outputs": [],
   "source": [
    "decorated_func = new_decorator(func_needs_decorator)"
   ]
  },
  {
   "cell_type": "code",
   "execution_count": 18,
   "metadata": {},
   "outputs": [
    {
     "name": "stdout",
     "output_type": "stream",
     "text": [
      "Some extra code, before the original function\n",
      "I want to be decorated!\n",
      "Some extra code, after the original function\n"
     ]
    }
   ],
   "source": [
    "decorated_func()"
   ]
  },
  {
   "cell_type": "code",
   "execution_count": 19,
   "metadata": {},
   "outputs": [],
   "source": [
    "@new_decorator\n",
    "def func_needs_decorator():\n",
    "    print(\"I want to be decorated!\")"
   ]
  },
  {
   "cell_type": "code",
   "execution_count": 20,
   "metadata": {},
   "outputs": [
    {
     "name": "stdout",
     "output_type": "stream",
     "text": [
      "Some extra code, before the original function\n",
      "I want to be decorated!\n",
      "Some extra code, after the original function\n"
     ]
    }
   ],
   "source": [
    "func_needs_decorator()"
   ]
  },
  {
   "cell_type": "code",
   "execution_count": 21,
   "metadata": {},
   "outputs": [],
   "source": [
    "#@new_decorator\n",
    "def func_needs_decorator():\n",
    "    print(\"I want to be decorated!\")"
   ]
  },
  {
   "cell_type": "code",
   "execution_count": 22,
   "metadata": {},
   "outputs": [
    {
     "name": "stdout",
     "output_type": "stream",
     "text": [
      "I want to be decorated!\n"
     ]
    }
   ],
   "source": [
    "func_needs_decorator()"
   ]
  },
  {
   "cell_type": "code",
   "execution_count": null,
   "metadata": {},
   "outputs": [],
   "source": []
  },
  {
   "cell_type": "markdown",
   "metadata": {},
   "source": [
    "### Counter Module"
   ]
  },
  {
   "cell_type": "code",
   "execution_count": 1,
   "metadata": {},
   "outputs": [],
   "source": [
    "from collections import Counter"
   ]
  },
  {
   "cell_type": "code",
   "execution_count": 7,
   "metadata": {},
   "outputs": [],
   "source": [
    "mylist = [1,1,1,1,1,2,2,2,2,2,2,3,3,3,3,3,3]"
   ]
  },
  {
   "cell_type": "code",
   "execution_count": 8,
   "metadata": {},
   "outputs": [
    {
     "data": {
      "text/plain": [
       "Counter({1: 5, 2: 6, 3: 6})"
      ]
     },
     "execution_count": 8,
     "metadata": {},
     "output_type": "execute_result"
    }
   ],
   "source": [
    "Counter(mylist)"
   ]
  },
  {
   "cell_type": "code",
   "execution_count": 9,
   "metadata": {},
   "outputs": [],
   "source": [
    "mylist = ['a','a','a',10,10]"
   ]
  },
  {
   "cell_type": "code",
   "execution_count": 10,
   "metadata": {},
   "outputs": [
    {
     "data": {
      "text/plain": [
       "Counter({'a': 3, 10: 2})"
      ]
     },
     "execution_count": 10,
     "metadata": {},
     "output_type": "execute_result"
    }
   ],
   "source": [
    "Counter(mylist)"
   ]
  },
  {
   "cell_type": "code",
   "execution_count": 11,
   "metadata": {},
   "outputs": [
    {
     "data": {
      "text/plain": [
       "collections.Counter"
      ]
     },
     "execution_count": 11,
     "metadata": {},
     "output_type": "execute_result"
    }
   ],
   "source": [
    "type(Counter(mylist))"
   ]
  },
  {
   "cell_type": "code",
   "execution_count": 13,
   "metadata": {},
   "outputs": [
    {
     "data": {
      "text/plain": [
       "3"
      ]
     },
     "execution_count": 13,
     "metadata": {},
     "output_type": "execute_result"
    }
   ],
   "source": [
    "Counter(mylist)['a']"
   ]
  },
  {
   "cell_type": "code",
   "execution_count": 14,
   "metadata": {},
   "outputs": [],
   "source": [
    "sentence = \"How many times does each word show up in this sentence with a word\""
   ]
  },
  {
   "cell_type": "code",
   "execution_count": 15,
   "metadata": {},
   "outputs": [
    {
     "data": {
      "text/plain": [
       "Counter({'How': 1,\n",
       "         'many': 1,\n",
       "         'times': 1,\n",
       "         'does': 1,\n",
       "         'each': 1,\n",
       "         'word': 2,\n",
       "         'show': 1,\n",
       "         'up': 1,\n",
       "         'in': 1,\n",
       "         'this': 1,\n",
       "         'sentence': 1,\n",
       "         'with': 1,\n",
       "         'a': 1})"
      ]
     },
     "execution_count": 15,
     "metadata": {},
     "output_type": "execute_result"
    }
   ],
   "source": [
    "Counter(sentence.split())"
   ]
  },
  {
   "cell_type": "code",
   "execution_count": 16,
   "metadata": {},
   "outputs": [
    {
     "data": {
      "text/plain": [
       "Counter({'how': 1,\n",
       "         'many': 1,\n",
       "         'times': 1,\n",
       "         'does': 1,\n",
       "         'each': 1,\n",
       "         'word': 2,\n",
       "         'show': 1,\n",
       "         'up': 1,\n",
       "         'in': 1,\n",
       "         'this': 1,\n",
       "         'sentence': 1,\n",
       "         'with': 1,\n",
       "         'a': 1})"
      ]
     },
     "execution_count": 16,
     "metadata": {},
     "output_type": "execute_result"
    }
   ],
   "source": [
    "Counter(sentence.lower().split())"
   ]
  },
  {
   "cell_type": "code",
   "execution_count": 17,
   "metadata": {},
   "outputs": [],
   "source": [
    "letters = 'aaabbbbbbbbbccccccccdddddddddddddd'\n",
    "c = Counter(letters)"
   ]
  },
  {
   "cell_type": "code",
   "execution_count": 18,
   "metadata": {},
   "outputs": [
    {
     "data": {
      "text/plain": [
       "[('d', 14), ('b', 9), ('c', 8), ('a', 3)]"
      ]
     },
     "execution_count": 18,
     "metadata": {},
     "output_type": "execute_result"
    }
   ],
   "source": [
    "c.most_common()"
   ]
  },
  {
   "cell_type": "code",
   "execution_count": 19,
   "metadata": {},
   "outputs": [
    {
     "data": {
      "text/plain": [
       "[('d', 14), ('b', 9)]"
      ]
     },
     "execution_count": 19,
     "metadata": {},
     "output_type": "execute_result"
    }
   ],
   "source": [
    "c.most_common(2)"
   ]
  },
  {
   "cell_type": "code",
   "execution_count": 20,
   "metadata": {},
   "outputs": [
    {
     "data": {
      "text/plain": [
       "[('d', 14)]"
      ]
     },
     "execution_count": 20,
     "metadata": {},
     "output_type": "execute_result"
    }
   ],
   "source": [
    "c.most_common(1)"
   ]
  },
  {
   "cell_type": "code",
   "execution_count": 22,
   "metadata": {},
   "outputs": [
    {
     "data": {
      "text/plain": [
       "['a', 'b', 'c', 'd']"
      ]
     },
     "execution_count": 22,
     "metadata": {},
     "output_type": "execute_result"
    }
   ],
   "source": [
    "list(c)"
   ]
  },
  {
   "cell_type": "markdown",
   "metadata": {},
   "source": [
    "### Default Dictionary vs. Normal Dictionary"
   ]
  },
  {
   "cell_type": "code",
   "execution_count": 21,
   "metadata": {},
   "outputs": [],
   "source": [
    "from collections import defaultdict"
   ]
  },
  {
   "cell_type": "code",
   "execution_count": 23,
   "metadata": {},
   "outputs": [],
   "source": [
    "d = {'a':10}"
   ]
  },
  {
   "cell_type": "code",
   "execution_count": 24,
   "metadata": {},
   "outputs": [
    {
     "data": {
      "text/plain": [
       "{'a': 10}"
      ]
     },
     "execution_count": 24,
     "metadata": {},
     "output_type": "execute_result"
    }
   ],
   "source": [
    "d"
   ]
  },
  {
   "cell_type": "code",
   "execution_count": 25,
   "metadata": {},
   "outputs": [
    {
     "data": {
      "text/plain": [
       "10"
      ]
     },
     "execution_count": 25,
     "metadata": {},
     "output_type": "execute_result"
    }
   ],
   "source": [
    "d['a']"
   ]
  },
  {
   "cell_type": "code",
   "execution_count": 26,
   "metadata": {},
   "outputs": [
    {
     "ename": "KeyError",
     "evalue": "'wrong'",
     "output_type": "error",
     "traceback": [
      "\u001b[0;31m---------------------------------------------------------------------------\u001b[0m",
      "\u001b[0;31mKeyError\u001b[0m                                  Traceback (most recent call last)",
      "\u001b[0;32m<ipython-input-26-9e90acfce574>\u001b[0m in \u001b[0;36m<module>\u001b[0;34m\u001b[0m\n\u001b[0;32m----> 1\u001b[0;31m \u001b[0md\u001b[0m\u001b[0;34m[\u001b[0m\u001b[0;34m'wrong'\u001b[0m\u001b[0;34m]\u001b[0m\u001b[0;34m\u001b[0m\u001b[0;34m\u001b[0m\u001b[0m\n\u001b[0m",
      "\u001b[0;31mKeyError\u001b[0m: 'wrong'"
     ]
    }
   ],
   "source": [
    "d['wrong']"
   ]
  },
  {
   "cell_type": "code",
   "execution_count": 34,
   "metadata": {},
   "outputs": [],
   "source": [
    "d = defaultdict(lambda: 0)"
   ]
  },
  {
   "cell_type": "code",
   "execution_count": 35,
   "metadata": {},
   "outputs": [],
   "source": [
    "d['correct'] = 100"
   ]
  },
  {
   "cell_type": "code",
   "execution_count": 36,
   "metadata": {},
   "outputs": [
    {
     "data": {
      "text/plain": [
       "100"
      ]
     },
     "execution_count": 36,
     "metadata": {},
     "output_type": "execute_result"
    }
   ],
   "source": [
    "d['correct']"
   ]
  },
  {
   "cell_type": "code",
   "execution_count": 30,
   "metadata": {},
   "outputs": [
    {
     "data": {
      "text/plain": [
       "0"
      ]
     },
     "execution_count": 30,
     "metadata": {},
     "output_type": "execute_result"
    }
   ],
   "source": [
    "d['wrong']"
   ]
  },
  {
   "cell_type": "code",
   "execution_count": 27,
   "metadata": {},
   "outputs": [
    {
     "data": {
      "text/plain": [
       "defaultdict(<function __main__.<lambda>()>,\n",
       "            {'a': 0, 'correct': 100, 'wrong': 0})"
      ]
     },
     "execution_count": 27,
     "metadata": {},
     "output_type": "execute_result"
    }
   ],
   "source": [
    "d"
   ]
  },
  {
   "cell_type": "code",
   "execution_count": 37,
   "metadata": {},
   "outputs": [],
   "source": [
    "d = defaultdict(lambda: \"wrong key!\")"
   ]
  },
  {
   "cell_type": "code",
   "execution_count": 38,
   "metadata": {},
   "outputs": [
    {
     "data": {
      "text/plain": [
       "'wrong key!'"
      ]
     },
     "execution_count": 38,
     "metadata": {},
     "output_type": "execute_result"
    }
   ],
   "source": [
    "d['wrong']"
   ]
  },
  {
   "cell_type": "markdown",
   "metadata": {},
   "source": [
    "### Named Tuple"
   ]
  },
  {
   "cell_type": "code",
   "execution_count": 39,
   "metadata": {},
   "outputs": [],
   "source": [
    "mytuple = (10,20,30)"
   ]
  },
  {
   "cell_type": "code",
   "execution_count": 40,
   "metadata": {},
   "outputs": [
    {
     "data": {
      "text/plain": [
       "(10, 20, 30)"
      ]
     },
     "execution_count": 40,
     "metadata": {},
     "output_type": "execute_result"
    }
   ],
   "source": [
    "mytuple"
   ]
  },
  {
   "cell_type": "code",
   "execution_count": 41,
   "metadata": {},
   "outputs": [
    {
     "data": {
      "text/plain": [
       "10"
      ]
     },
     "execution_count": 41,
     "metadata": {},
     "output_type": "execute_result"
    }
   ],
   "source": [
    "mytuple[0]"
   ]
  },
  {
   "cell_type": "code",
   "execution_count": 42,
   "metadata": {},
   "outputs": [],
   "source": [
    "from collections import namedtuple"
   ]
  },
  {
   "cell_type": "code",
   "execution_count": 43,
   "metadata": {},
   "outputs": [],
   "source": [
    "Dog = namedtuple('Dog', ['age','breed','name'])"
   ]
  },
  {
   "cell_type": "code",
   "execution_count": 44,
   "metadata": {},
   "outputs": [
    {
     "data": {
      "text/plain": [
       "__main__.Dog"
      ]
     },
     "execution_count": 44,
     "metadata": {},
     "output_type": "execute_result"
    }
   ],
   "source": [
    "Dog"
   ]
  },
  {
   "cell_type": "code",
   "execution_count": 45,
   "metadata": {},
   "outputs": [],
   "source": [
    "Daljoong = Dog(age=5,breed='Jindo',name='Daljoong')"
   ]
  },
  {
   "cell_type": "code",
   "execution_count": 46,
   "metadata": {},
   "outputs": [
    {
     "data": {
      "text/plain": [
       "__main__.Dog"
      ]
     },
     "execution_count": 46,
     "metadata": {},
     "output_type": "execute_result"
    }
   ],
   "source": [
    "type(Daljoong)"
   ]
  },
  {
   "cell_type": "code",
   "execution_count": 47,
   "metadata": {},
   "outputs": [
    {
     "data": {
      "text/plain": [
       "Dog(age=5, breed='Jindo', name='Daljoong')"
      ]
     },
     "execution_count": 47,
     "metadata": {},
     "output_type": "execute_result"
    }
   ],
   "source": [
    "Daljoong"
   ]
  },
  {
   "cell_type": "code",
   "execution_count": 48,
   "metadata": {},
   "outputs": [
    {
     "data": {
      "text/plain": [
       "5"
      ]
     },
     "execution_count": 48,
     "metadata": {},
     "output_type": "execute_result"
    }
   ],
   "source": [
    "Daljoong.age"
   ]
  },
  {
   "cell_type": "code",
   "execution_count": 49,
   "metadata": {},
   "outputs": [
    {
     "data": {
      "text/plain": [
       "5"
      ]
     },
     "execution_count": 49,
     "metadata": {},
     "output_type": "execute_result"
    }
   ],
   "source": [
    "Daljoong[0]"
   ]
  },
  {
   "cell_type": "markdown",
   "metadata": {},
   "source": [
    "### Shutil and OS Modules"
   ]
  },
  {
   "cell_type": "code",
   "execution_count": 50,
   "metadata": {},
   "outputs": [
    {
     "data": {
      "text/plain": [
       "'/Users/wooyongjung/WJ_Projects/Udemy_python'"
      ]
     },
     "execution_count": 50,
     "metadata": {},
     "output_type": "execute_result"
    }
   ],
   "source": [
    "pwd"
   ]
  },
  {
   "cell_type": "code",
   "execution_count": 51,
   "metadata": {},
   "outputs": [],
   "source": [
    "f = open('practice.txt', 'w+')\n",
    "f.write('This is a test string')\n",
    "f.close()"
   ]
  },
  {
   "cell_type": "code",
   "execution_count": 52,
   "metadata": {},
   "outputs": [],
   "source": [
    "import os"
   ]
  },
  {
   "cell_type": "code",
   "execution_count": 53,
   "metadata": {},
   "outputs": [
    {
     "data": {
      "text/plain": [
       "'/Users/wooyongjung/WJ_Projects/Udemy_python'"
      ]
     },
     "execution_count": 53,
     "metadata": {},
     "output_type": "execute_result"
    }
   ],
   "source": [
    "os.getcwd()"
   ]
  },
  {
   "cell_type": "code",
   "execution_count": 54,
   "metadata": {},
   "outputs": [
    {
     "data": {
      "text/plain": [
       "['.DS_Store',\n",
       " 'Complete-Python-3-Bootcamp',\n",
       " 'practice.txt',\n",
       " 'testtesttest.txt',\n",
       " 'my_new_file.txt',\n",
       " 'Milestone Project 1 - Tic Tac Toe.ipynb',\n",
       " 'Section 8.ipynb',\n",
       " 'Section 6.ipynb',\n",
       " 'Section 4.ipynb',\n",
       " 'Milestone Project 2 - Black Jack.ipynb',\n",
       " 'Simple War Game.ipynb',\n",
       " 'Section 13.ipynb',\n",
       " 'myfile.txt',\n",
       " '.ipynb_checkpoints',\n",
       " 'Section 14.ipynb',\n",
       " 'Section 5.ipynb',\n",
       " '.git',\n",
       " 'Section 7.ipynb',\n",
       " 'Section 3.ipynb',\n",
       " 'Section 12.ipynb',\n",
       " 'testfile',\n",
       " 'Section 10.ipynb']"
      ]
     },
     "execution_count": 54,
     "metadata": {},
     "output_type": "execute_result"
    }
   ],
   "source": [
    "os.listdir()"
   ]
  },
  {
   "cell_type": "code",
   "execution_count": 57,
   "metadata": {},
   "outputs": [
    {
     "data": {
      "text/plain": [
       "['.localized', 'Shared', 'wooyongjung']"
      ]
     },
     "execution_count": 57,
     "metadata": {},
     "output_type": "execute_result"
    }
   ],
   "source": [
    "os.listdir('/Users/')"
   ]
  },
  {
   "cell_type": "code",
   "execution_count": 56,
   "metadata": {},
   "outputs": [
    {
     "data": {
      "text/plain": [
       "'/Users/wooyongjung/WJ_Projects/Udemy_python'"
      ]
     },
     "execution_count": 56,
     "metadata": {},
     "output_type": "execute_result"
    }
   ],
   "source": [
    "os.getcwd()"
   ]
  },
  {
   "cell_type": "code",
   "execution_count": 58,
   "metadata": {},
   "outputs": [],
   "source": [
    "import shutil"
   ]
  },
  {
   "cell_type": "code",
   "execution_count": 59,
   "metadata": {},
   "outputs": [
    {
     "data": {
      "text/plain": [
       "'/Users/wooyongjung/WJ_Projects/practice.txt'"
      ]
     },
     "execution_count": 59,
     "metadata": {},
     "output_type": "execute_result"
    }
   ],
   "source": [
    "shutil.move('practice.txt','/Users/wooyongjung/WJ_Projects')"
   ]
  },
  {
   "cell_type": "code",
   "execution_count": 60,
   "metadata": {},
   "outputs": [
    {
     "data": {
      "text/plain": [
       "['one.py',\n",
       " 'test_cap.py',\n",
       " '.DS_Store',\n",
       " 'Political_Orientation',\n",
       " 'self-study',\n",
       " 'cap.py',\n",
       " 'practice.txt',\n",
       " 'two.py',\n",
       " 'Udemy_python',\n",
       " '__pycache__',\n",
       " 'simple1.py',\n",
       " 'RA_visualization',\n",
       " 'myprogram.py',\n",
       " 'Social_Progress',\n",
       " 'Predict_TFP',\n",
       " 'myexample.py',\n",
       " 'MyMainPackage',\n",
       " 'mymodule.py',\n",
       " 'Readme.txt',\n",
       " 'Trust',\n",
       " '.ipynb_checkpoints']"
      ]
     },
     "execution_count": 60,
     "metadata": {},
     "output_type": "execute_result"
    }
   ],
   "source": [
    "os.listdir(\"/Users/wooyongjung/WJ_Projects\")"
   ]
  },
  {
   "cell_type": "code",
   "execution_count": 61,
   "metadata": {},
   "outputs": [],
   "source": [
    "import send2trash"
   ]
  },
  {
   "cell_type": "code",
   "execution_count": 62,
   "metadata": {},
   "outputs": [
    {
     "data": {
      "text/plain": [
       "['.DS_Store',\n",
       " 'Complete-Python-3-Bootcamp',\n",
       " 'testtesttest.txt',\n",
       " 'my_new_file.txt',\n",
       " 'Milestone Project 1 - Tic Tac Toe.ipynb',\n",
       " 'Section 8.ipynb',\n",
       " 'Section 6.ipynb',\n",
       " 'Section 4.ipynb',\n",
       " 'Milestone Project 2 - Black Jack.ipynb',\n",
       " 'Simple War Game.ipynb',\n",
       " 'Section 13.ipynb',\n",
       " 'myfile.txt',\n",
       " '.ipynb_checkpoints',\n",
       " 'Section 14.ipynb',\n",
       " 'Section 5.ipynb',\n",
       " '.git',\n",
       " 'Section 7.ipynb',\n",
       " 'Section 3.ipynb',\n",
       " 'Section 12.ipynb',\n",
       " 'testfile',\n",
       " 'Section 10.ipynb']"
      ]
     },
     "execution_count": 62,
     "metadata": {},
     "output_type": "execute_result"
    }
   ],
   "source": [
    "os.listdir()"
   ]
  },
  {
   "cell_type": "code",
   "execution_count": 64,
   "metadata": {},
   "outputs": [
    {
     "data": {
      "text/plain": [
       "'/Users/wooyongjung/WJ_Projects/Udemy_python/practice.txt'"
      ]
     },
     "execution_count": 64,
     "metadata": {},
     "output_type": "execute_result"
    }
   ],
   "source": [
    "shutil.move('/Users/wooyongjung/WJ_Projects/practice.txt', os.getcwd())"
   ]
  },
  {
   "cell_type": "code",
   "execution_count": 65,
   "metadata": {},
   "outputs": [
    {
     "data": {
      "text/plain": [
       "['.DS_Store',\n",
       " 'Complete-Python-3-Bootcamp',\n",
       " 'practice.txt',\n",
       " 'testtesttest.txt',\n",
       " 'my_new_file.txt',\n",
       " 'Milestone Project 1 - Tic Tac Toe.ipynb',\n",
       " 'Section 8.ipynb',\n",
       " 'Section 6.ipynb',\n",
       " 'Section 4.ipynb',\n",
       " 'Milestone Project 2 - Black Jack.ipynb',\n",
       " 'Simple War Game.ipynb',\n",
       " 'Section 13.ipynb',\n",
       " 'myfile.txt',\n",
       " '.ipynb_checkpoints',\n",
       " 'Section 14.ipynb',\n",
       " 'Section 5.ipynb',\n",
       " '.git',\n",
       " 'Section 7.ipynb',\n",
       " 'Section 3.ipynb',\n",
       " 'Section 12.ipynb',\n",
       " 'testfile',\n",
       " 'Section 10.ipynb']"
      ]
     },
     "execution_count": 65,
     "metadata": {},
     "output_type": "execute_result"
    }
   ],
   "source": [
    "os.listdir()"
   ]
  },
  {
   "cell_type": "code",
   "execution_count": 66,
   "metadata": {},
   "outputs": [],
   "source": [
    "send2trash.send2trash('practice.txt')"
   ]
  },
  {
   "cell_type": "code",
   "execution_count": 67,
   "metadata": {},
   "outputs": [
    {
     "data": {
      "text/plain": [
       "['.DS_Store',\n",
       " 'Complete-Python-3-Bootcamp',\n",
       " 'testtesttest.txt',\n",
       " 'my_new_file.txt',\n",
       " 'Milestone Project 1 - Tic Tac Toe.ipynb',\n",
       " 'Section 8.ipynb',\n",
       " 'Section 6.ipynb',\n",
       " 'Section 4.ipynb',\n",
       " 'Milestone Project 2 - Black Jack.ipynb',\n",
       " 'Simple War Game.ipynb',\n",
       " 'Section 13.ipynb',\n",
       " 'myfile.txt',\n",
       " '.ipynb_checkpoints',\n",
       " 'Section 14.ipynb',\n",
       " 'Section 5.ipynb',\n",
       " '.git',\n",
       " 'Section 7.ipynb',\n",
       " 'Section 3.ipynb',\n",
       " 'Section 12.ipynb',\n",
       " 'testfile',\n",
       " 'Section 10.ipynb']"
      ]
     },
     "execution_count": 67,
     "metadata": {},
     "output_type": "execute_result"
    }
   ],
   "source": [
    "os.listdir()"
   ]
  },
  {
   "cell_type": "code",
   "execution_count": 68,
   "metadata": {},
   "outputs": [
    {
     "data": {
      "text/plain": [
       "'/Users/wooyongjung/WJ_Projects/Udemy_python'"
      ]
     },
     "execution_count": 68,
     "metadata": {},
     "output_type": "execute_result"
    }
   ],
   "source": [
    "os.getcwd()"
   ]
  },
  {
   "cell_type": "code",
   "execution_count": 69,
   "metadata": {},
   "outputs": [],
   "source": [
    "file_path = '/Users/wooyongjung/WJ_Projects/Udemy_python'"
   ]
  },
  {
   "cell_type": "code",
   "execution_count": 72,
   "metadata": {},
   "outputs": [
    {
     "name": "stdout",
     "output_type": "stream",
     "text": [
      "currently looking at (folder)\n",
      "\n",
      "\n",
      "The subfolders are: \n",
      "\t subfolder: Complete-Python-3-Bootcamp\n",
      "\t subfolder: .ipynb_checkpoints\n",
      "\t subfolder: .git\n",
      "\n",
      "\n",
      "the files are: \n",
      "\t File: .DS_Store\n",
      "\t File: testtesttest.txt\n",
      "\t File: my_new_file.txt\n",
      "\t File: Milestone Project 1 - Tic Tac Toe.ipynb\n",
      "\t File: Section 8.ipynb\n",
      "\t File: Section 6.ipynb\n",
      "\t File: Section 4.ipynb\n",
      "\t File: Milestone Project 2 - Black Jack.ipynb\n",
      "\t File: Simple War Game.ipynb\n",
      "\t File: Section 13.ipynb\n",
      "\t File: myfile.txt\n",
      "\t File: Section 14.ipynb\n",
      "\t File: Section 5.ipynb\n",
      "\t File: Section 7.ipynb\n",
      "\t File: Section 3.ipynb\n",
      "\t File: Section 12.ipynb\n",
      "\t File: testfile\n",
      "\t File: Section 10.ipynb\n",
      "\n",
      "\n",
      "currently looking at (folder)\n",
      "\n",
      "\n",
      "The subfolders are: \n",
      "\t subfolder: 18-Milestone Project - 3\n",
      "\t subfolder: 19-Bonus Material - Introduction to GUIs\n",
      "\t subfolder: 12-Advanced Python Modules\n",
      "\t subfolder: 03-Methods and Functions\n",
      "\t subfolder: 07-Errors and Exception Handling\n",
      "\t subfolder: 11-Python Generators\n",
      "\t subfolder: 06-Modules and Packages\n",
      "\t subfolder: 16-Emailing-with-Python\n",
      "\t subfolder: 01-Python Comparison Operators\n",
      "\t subfolder: 17-Advanced Python Objects and Data Structures\n",
      "\t subfolder: 08-Milestone Project - 2\n",
      "\t subfolder: 14-Working-with-Images\n",
      "\t subfolder: 09-Built-in Functions\n",
      "\t subfolder: 04-Milestone Project - 1\n",
      "\t subfolder: 05-Object Oriented Programming\n",
      "\t subfolder: .ipynb_checkpoints\n",
      "\t subfolder: 00-Python Object and Data Structure Basics\n",
      "\t subfolder: .git\n",
      "\t subfolder: 15-PDFs-and-Spreadsheets\n",
      "\t subfolder: 10-Python Decorators\n",
      "\t subfolder: 02-Python Statements\n",
      "\t subfolder: 13-Web-Scraping\n",
      "\n",
      "\n",
      "the files are: \n",
      "\t File: Pierian_Data_Logo.png\n",
      "\t File: Jupyter (iPython) Notebooks Guide.ipynb\n",
      "\t File: README.md\n",
      "\n",
      "\n",
      "currently looking at (folder)\n",
      "\n",
      "\n",
      "The subfolders are: \n",
      "\t subfolder: Projects-Solutions\n",
      "\t subfolder: .ipynb_checkpoints\n",
      "\n",
      "\n",
      "the files are: \n",
      "\t File: 01-Final Capstone Project.ipynb\n",
      "\t File: 02-Final Capstone Project Ideas.ipynb\n",
      "\n",
      "\n",
      "currently looking at (folder)\n",
      "\n",
      "\n",
      "The subfolders are: \n",
      "\n",
      "\n",
      "the files are: \n",
      "\t File: Solution Links.md\n",
      "\n",
      "\n",
      "currently looking at (folder)\n",
      "\n",
      "\n",
      "The subfolders are: \n",
      "\n",
      "\n",
      "the files are: \n",
      "\t File: 02-Final Capstone Project Ideas-checkpoint.ipynb\n",
      "\t File: 01-Final Capstone Project-checkpoint.ipynb\n",
      "\n",
      "\n",
      "currently looking at (folder)\n",
      "\n",
      "\n",
      "The subfolders are: \n",
      "\t subfolder: .ipynb_checkpoints\n",
      "\n",
      "\n",
      "the files are: \n",
      "\t File: 03-Widget List.ipynb\n",
      "\t File: 05-Widget Styling.ipynb\n",
      "\t File: 08-Advanced Widget Styling with Layout.ipynb\n",
      "\t File: 01-Interact.ipynb\n",
      "\t File: 07-Advanced Widget List.ipynb\n",
      "\t File: 04-Widget Events.ipynb\n",
      "\t File: 06-Custom Widget.ipynb\n",
      "\t File: 02-Widget Basics.ipynb\n",
      "\n",
      "\n",
      "currently looking at (folder)\n",
      "\n",
      "\n",
      "The subfolders are: \n",
      "\n",
      "\n",
      "the files are: \n",
      "\t File: 03-Widget List-checkpoint.ipynb\n",
      "\t File: 08-Advanced Widget Styling with Layout-checkpoint.ipynb\n",
      "\t File: 07-Advanced Widget List-checkpoint.ipynb\n",
      "\t File: 02-Widget Basics-checkpoint.ipynb\n",
      "\t File: 01-Interact-checkpoint.ipynb\n",
      "\t File: 06-Custom Widget-checkpoint.ipynb\n",
      "\t File: 04-Widget Events-checkpoint.ipynb\n",
      "\t File: 05-Widget Styling-checkpoint.ipynb\n",
      "\n",
      "\n",
      "currently looking at (folder)\n",
      "\n",
      "\n",
      "The subfolders are: \n",
      "\t subfolder: Example_Top_Level\n",
      "\t subfolder: 08-Advanced-Python-Module-Exercise\n",
      "\t subfolder: .ipynb_checkpoints\n",
      "\n",
      "\n",
      "the files are: \n",
      "\t File: 00-Collections-Module.ipynb\n",
      "\t File: 06-Timing your code - timeit.ipynb\n",
      "\t File: 03-Math-and-Random-Module.ipynb\n",
      "\t File: 02-Datetime-Module.ipynb\n",
      "\t File: 05-Overview-of-Regular-Expressions.ipynb\n",
      "\t File: 01-Opening-and-Reading-Files-Folders.ipynb\n",
      "\t File: 04-Python Debugger (pdb).ipynb\n",
      "\t File: 07-Unzipping-and-Zipping-Files.ipynb\n",
      "\n",
      "\n",
      "currently looking at (folder)\n",
      "\n",
      "\n",
      "The subfolders are: \n",
      "\t subfolder: Mid-Example-One\n",
      "\n",
      "\n",
      "the files are: \n",
      "\t File: Mid-Example.txt\n",
      "\n",
      "\n",
      "currently looking at (folder)\n",
      "\n",
      "\n",
      "The subfolders are: \n",
      "\t subfolder: Bottom-Level-Two\n",
      "\t subfolder: Bottom-Level-One\n",
      "\n",
      "\n",
      "the files are: \n",
      "\t File: Mid-Level-Doc.txt\n",
      "\n",
      "\n",
      "currently looking at (folder)\n",
      "\n",
      "\n",
      "The subfolders are: \n",
      "\n",
      "\n",
      "the files are: \n",
      "\t File: Bottom-Text-Two.txt\n",
      "\n",
      "\n",
      "currently looking at (folder)\n",
      "\n",
      "\n",
      "The subfolders are: \n",
      "\n",
      "\n",
      "the files are: \n",
      "\t File: One_Text.txt\n",
      "\n",
      "\n",
      "currently looking at (folder)\n",
      "\n",
      "\n",
      "The subfolders are: \n",
      "\t subfolder: .ipynb_checkpoints\n",
      "\t subfolder: extracted_content\n",
      "\n",
      "\n",
      "the files are: \n",
      "\t File: 07-Advanced-Modules-Exercise-Puzzle.ipynb\n",
      "\t File: 08-Advanced-Modules-Exercise-Solutions.ipynb\n",
      "\t File: unzip_me_for_instructions.zip\n",
      "\n",
      "\n",
      "currently looking at (folder)\n",
      "\n",
      "\n",
      "The subfolders are: \n",
      "\n",
      "\n",
      "the files are: \n",
      "\t File: 08-Advanced-Modules-Exercise-Solutions-checkpoint.ipynb\n",
      "\t File: 07-Advanced-Modules-Exercise-Puzzle-checkpoint.ipynb\n",
      "\n",
      "\n",
      "currently looking at (folder)\n",
      "\n",
      "\n",
      "The subfolders are: \n",
      "\t subfolder: Three\n",
      "\t subfolder: One\n",
      "\t subfolder: Two\n",
      "\t subfolder: Five\n",
      "\t subfolder: Four\n",
      "\n",
      "\n",
      "the files are: \n",
      "\t File: Instructions.txt\n",
      "\n",
      "\n",
      "currently looking at (folder)\n",
      "\n",
      "\n",
      "The subfolders are: \n",
      "\n",
      "\n",
      "the files are: \n",
      "\t File: VSXFSTABZDY.txt\n",
      "\t File: YDQFMWXOUMW.txt\n",
      "\t File: YQBIUHSUEVW.txt\n",
      "\t File: XAJMCPEWFNI.txt\n",
      "\t File: ZXEZRQXZNPG.txt\n",
      "\t File: ZKQJXAYKPVD.txt\n",
      "\t File: XVMPVSVYKFR.txt\n",
      "\t File: XHZPVUQTXIO.txt\n",
      "\t File: YYIZGBTQHZP.txt\n",
      "\t File: VCFJCGJFBIH.txt\n",
      "\t File: VVHFVZUNLOO.txt\n",
      "\t File: VVKGWLRMHLU.txt\n",
      "\t File: XJCWENFFGHB.txt\n",
      "\t File: XFHJOTNPEJG.txt\n",
      "\t File: ZOWVXWPOGWP.txt\n",
      "\t File: ZXIBJMPROKW.txt\n",
      "\t File: VAQIJTDOFUJ.txt\n",
      "\t File: YCESZHJDBXH.txt\n",
      "\t File: YQRNCMNFFHW.txt\n",
      "\t File: ZEZKKRBIZEB.txt\n",
      "\n",
      "\n",
      "currently looking at (folder)\n",
      "\n",
      "\n",
      "The subfolders are: \n",
      "\n",
      "\n",
      "the files are: \n",
      "\t File: LFEATJAAYDC.txt\n",
      "\t File: KCXGNQCZBLO.txt\n",
      "\t File: KFIUZFERLET.txt\n",
      "\t File: LIFDHOFKWOI.txt\n",
      "\t File: HRQFTHKVJTL.txt\n",
      "\t File: PLYCGPVEAWO.txt\n",
      "\t File: JEHBLZPUPSP.txt\n",
      "\t File: PDJMSMNKIRM.txt\n",
      "\t File: LPNDVDXPZIG.txt\n",
      "\t File: HMNZTLIFGPD.txt\n",
      "\t File: KNBSKDREHQU.txt\n",
      "\t File: KTXDHIOKAUI.txt\n",
      "\t File: JQUOBKFUACN.txt\n",
      "\t File: HFUTPPAXDIS.txt\n",
      "\t File: PTOBBCJYURJ.txt\n",
      "\t File: LHODFIKVTQA.txt\n",
      "\t File: JLTXKIGCWDL.txt\n",
      "\t File: HDOHZHFSTTK.txt\n",
      "\t File: KMMLGJOWLGI.txt\n",
      "\t File: JDLRVFCXYLU.txt\n",
      "\t File: PHWAVPEKAER.txt\n",
      "\t File: LDGOCUQJNNS.txt\n",
      "\t File: JTHSNBNPQSE.txt\n",
      "\t File: HVUTZEVMSBW.txt\n",
      "\t File: PQNVCVJINAR.txt\n",
      "\n",
      "\n",
      "currently looking at (folder)\n",
      "\n",
      "\n",
      "The subfolders are: \n",
      "\n",
      "\n",
      "the files are: \n",
      "\t File: HEORIXOTANT.txt\n",
      "\t File: SOFUJYXTIMK.txt\n",
      "\t File: HMZXPBOPRAE.txt\n",
      "\t File: OMWIMVRCMYM.txt\n",
      "\t File: OHZOUOSFJQC.txt\n",
      "\t File: OKWFOOYTXFU.txt\n",
      "\t File: LVMBINRBJXL.txt\n",
      "\t File: LSQSTGPIGIY.txt\n",
      "\t File: OIHMLGMWTHL.txt\n",
      "\t File: GQTJJORZBXY.txt\n",
      "\t File: HARDNJGDRBC.txt\n",
      "\t File: OYMAGXAGWHJ.txt\n",
      "\t File: HMUTDOVNYTV.txt\n",
      "\t File: LYZEQCVYNEZ.txt\n",
      "\t File: GMMQQUBMJNR.txt\n",
      "\t File: GTOTCIWMDBY.txt\n",
      "\t File: LULTNYAQEJG.txt\n",
      "\t File: HTOHSTYXTCO.txt\n",
      "\t File: SJMJLDGPBSJ.txt\n",
      "\t File: LCJZYDHBFRM.txt\n",
      "\t File: SPDZYGDHEWO.txt\n",
      "\t File: SIKFPPLCJDN.txt\n",
      "\t File: GXYSEPAFRTP.txt\n",
      "\t File: SWOFXREEHWA.txt\n",
      "\t File: GKQBQRCTNNK.txt\n",
      "\n",
      "\n",
      "currently looking at (folder)\n",
      "\n",
      "\n",
      "The subfolders are: \n",
      "\n",
      "\n",
      "the files are: \n",
      "\t File: ESIZWBHMGDP.txt\n",
      "\t File: BUGKBZWRRVI.txt\n",
      "\t File: ARLKFCWIAJE.txt\n",
      "\t File: EYTCGIOYWIW.txt\n",
      "\t File: APJKSRITGGX.txt\n",
      "\t File: AXJGVPVEFAS.txt\n",
      "\t File: CSCLFZCDYYC.txt\n",
      "\t File: CAHBEVSVDDN.txt\n",
      "\t File: BVBURZZCAPR.txt\n",
      "\t File: ETCUEXWNBCF.txt\n",
      "\t File: CRFSDGYFSHA.txt\n",
      "\t File: DYOPIIVMZOO.txt\n",
      "\t File: DDLASODUVPX.txt\n",
      "\t File: CXBVCTRBBIE.txt\n",
      "\t File: COMGMZBJAYE.txt\n",
      "\t File: EAAOEPSAWMQ.txt\n",
      "\t File: DZUWWXYIAEL.txt\n",
      "\t File: EIPWXMQZJKU.txt\n",
      "\t File: DHZBAAYEADM.txt\n",
      "\t File: BSKJDRNEZQM.txt\n",
      "\t File: AQKATDFGXTS.txt\n",
      "\t File: BTYWAHLHKBM.txt\n",
      "\t File: AEITMYIRQLP.txt\n",
      "\t File: BNUQEHCFRTG.txt\n",
      "\t File: DQPZQLBCJYP.txt\n",
      "\n",
      "\n",
      "currently looking at (folder)\n",
      "\n",
      "\n",
      "The subfolders are: \n",
      "\n",
      "\n",
      "the files are: \n",
      "\t File: WHTOHQUWXIN.txt\n",
      "\t File: QDDETWBHJYC.txt\n",
      "\t File: WNJISWPEBRS.txt\n",
      "\t File: WFSKPTXPFCH.txt\n",
      "\t File: EMTGPSXQEJX.txt\n",
      "\t File: TWUOYFCCYBQ.txt\n",
      "\t File: QTDYYIFPHAU.txt\n",
      "\t File: TAKNAVDMZKV.txt\n",
      "\t File: RYNXFYXMKHG.txt\n",
      "\t File: ROICPTWKXDX.txt\n",
      "\t File: QCWCFLKNZMN.txt\n",
      "\t File: EXVQSVBQQQH.txt\n",
      "\t File: THPNEGKTJWI.txt\n",
      "\t File: TJFMLJODVAD.txt\n",
      "\t File: QCTCKDIBBVG.txt\n",
      "\t File: TKCZSFQNJTX.txt\n",
      "\t File: WXDJDOGZEHN.txt\n",
      "\t File: QVNJULGXNUM.txt\n",
      "\t File: RSXOTNGKBML.txt\n",
      "\t File: EPRNUHRSESC.txt\n",
      "\t File: ECIOBYCDVFI.txt\n",
      "\t File: RXDARIDGKBF.txt\n",
      "\t File: REAXWSOIQDY.txt\n",
      "\t File: WYDLGSGGXKV.txt\n",
      "\t File: ESDIZXHYCVY.txt\n",
      "\n",
      "\n",
      "currently looking at (folder)\n",
      "\n",
      "\n",
      "The subfolders are: \n",
      "\n",
      "\n",
      "the files are: \n",
      "\t File: 07-OS-Module-checkpoint.ipynb\n",
      "\t File: 03-Math-and-Random-Module-checkpoint.ipynb\n",
      "\t File: 00-Collections-Module-checkpoint.ipynb\n",
      "\t File: 02-Math-and-Random-Module-checkpoint.ipynb\n",
      "\t File: 04-Timing your code - timeit-checkpoint.ipynb\n",
      "\t File: 03-Python Debugger (pdb)-checkpoint.ipynb\n",
      "\t File: 07-Unzipping-and-Zipping-Files-checkpoint.ipynb\n",
      "\t File: 06-Timing your code - timeit-checkpoint.ipynb\n",
      "\t File: 09-Advanced-Modules-Exercise-Solutions-checkpoint.ipynb\n",
      "\t File: 06-Unzipping-and-Zipping-Files-checkpoint.ipynb\n",
      "\t File: 02-Datetime-Module-checkpoint.ipynb\n",
      "\t File: 04-Python Debugger (pdb)-checkpoint.ipynb\n",
      "\t File: 01-Opening-and-Reading-Files-Folders-checkpoint.ipynb\n",
      "\t File: 01-Datetime-Module-checkpoint.ipynb\n",
      "\t File: 05-Overview-of-Regular-Expressions-checkpoint.ipynb\n",
      "\n",
      "\n",
      "currently looking at (folder)\n",
      "\n",
      "\n",
      "The subfolders are: \n",
      "\t subfolder: .ipynb_checkpoints\n",
      "\n",
      "\n",
      "the files are: \n",
      "\t File: 06-Nested Statements and Scope.ipynb\n",
      "\t File: 05-Lambda-Expressions-Map-and-Filter.ipynb\n",
      "\t File: 09-Functions and Methods Homework - Solutions.ipynb\n",
      "\t File: 02-Functions.ipynb\n",
      "\t File: 03-Function Practice Exercises.ipynb\n",
      "\t File: 07-args and kwargs.ipynb\n",
      "\t File: 04-Function Practice Exercises - Solutions.ipynb\n",
      "\t File: 08-Functions and Methods Homework.ipynb\n",
      "\t File: 01-Methods.ipynb\n",
      "\n",
      "\n",
      "currently looking at (folder)\n",
      "\n",
      "\n",
      "The subfolders are: \n",
      "\n",
      "\n",
      "the files are: \n",
      "\t File: 09-Functions and Methods Homework - Solutions-checkpoint.ipynb\n",
      "\t File: 01-Methods-checkpoint.ipynb\n",
      "\t File: 04-Function Practice Exercises - Solutions-checkpoint.ipynb\n",
      "\t File: 06-Nested Statements and Scope-checkpoint.ipynb\n",
      "\t File: 07-args and kwargs-checkpoint.ipynb\n",
      "\t File: 05-Lambda-Expressions-Map-and-Filter-checkpoint.ipynb\n",
      "\t File: 06-Functions and Methods Homework - Solutions-checkpoint.ipynb\n",
      "\t File: 09-Function Practice Exercises - Solutions-checkpoint.ipynb\n",
      "\t File: 08-Functions and Methods Homework-checkpoint.ipynb\n",
      "\t File: 03-Function Practice Exercises-checkpoint.ipynb\n",
      "\t File: 03-Lambda expressions-checkpoint.ipynb\n",
      "\t File: 04-Nested Statements and Scope-checkpoint.ipynb\n",
      "\t File: 02-Functions-checkpoint.ipynb\n",
      "\t File: 08-Function Practice Exercises-checkpoint.ipynb\n",
      "\t File: 05-Functions and Methods Homework-checkpoint.ipynb\n",
      "\n",
      "\n",
      "currently looking at (folder)\n",
      "\n",
      "\n",
      "The subfolders are: \n",
      "\t subfolder: __pycache__\n",
      "\t subfolder: .ipynb_checkpoints\n",
      "\n",
      "\n",
      "the files are: \n",
      "\t File: 04-Unit Testing.ipynb\n",
      "\t File: test_cap.py\n",
      "\t File: cap.py\n",
      "\t File: simple1.py\n",
      "\t File: 03-Errors and Exceptions Homework - Solution.ipynb\n",
      "\t File: 02-Errors and Exceptions Homework.ipynb\n",
      "\t File: simple2.py\n",
      "\t File: 01-Errors and Exceptions Handling.ipynb\n",
      "\t File: testfile\n",
      "\n",
      "\n",
      "currently looking at (folder)\n",
      "\n",
      "\n",
      "The subfolders are: \n",
      "\n",
      "\n",
      "the files are: \n",
      "\t File: cap.cpython-36.pyc\n",
      "\n",
      "\n",
      "currently looking at (folder)\n",
      "\n",
      "\n",
      "The subfolders are: \n",
      "\n",
      "\n",
      "the files are: \n",
      "\t File: 02-Errors and Exceptions Homework-checkpoint.ipynb\n",
      "\t File: 03-Errors and Exceptions Homework - Solution-checkpoint.ipynb\n",
      "\t File: 01-Errors and Exceptions Handling-checkpoint.ipynb\n",
      "\t File: 04-Unit Testing-checkpoint.ipynb\n",
      "\n",
      "\n",
      "currently looking at (folder)\n",
      "\n",
      "\n",
      "The subfolders are: \n",
      "\t subfolder: .ipynb_checkpoints\n",
      "\n",
      "\n",
      "the files are: \n",
      "\t File: 01-Iterators and Generators.ipynb\n",
      "\t File: 03-Iterators and Generators Homework - Solution.ipynb\n",
      "\t File: 02-Iterators and Generators Homework.ipynb\n",
      "\n",
      "\n",
      "currently looking at (folder)\n",
      "\n",
      "\n",
      "The subfolders are: \n",
      "\n",
      "\n",
      "the files are: \n",
      "\t File: 02-Iterators and Generators Homework-checkpoint.ipynb\n",
      "\t File: 01-Iterators and Generators-checkpoint.ipynb\n",
      "\t File: 03-Iterators and Generators Homework - Solution-checkpoint.ipynb\n",
      "\n",
      "\n",
      "currently looking at (folder)\n",
      "\n",
      "\n",
      "The subfolders are: \n",
      "\t subfolder: .ipynb_checkpoints\n",
      "\t subfolder: 01-Name_and_Main\n",
      "\t subfolder: 00-Modules_and_Packages\n",
      "\n",
      "\n",
      "the files are: \n",
      "\t File: Useful_Info_Notebook.ipynb\n",
      "\n",
      "\n",
      "currently looking at (folder)\n",
      "\n",
      "\n",
      "The subfolders are: \n",
      "\n",
      "\n",
      "the files are: \n",
      "\t File: 01-Modules and Packages-checkpoint.ipynb\n",
      "\t File: Useful_Info_Notebook-checkpoint.ipynb\n",
      "\n",
      "\n",
      "currently looking at (folder)\n",
      "\n",
      "\n",
      "The subfolders are: \n",
      "\n",
      "\n",
      "the files are: \n",
      "\t File: one.py\n",
      "\t File: Explanation.txt\n",
      "\t File: two.py\n",
      "\n",
      "\n",
      "currently looking at (folder)\n",
      "\n",
      "\n",
      "The subfolders are: \n",
      "\t subfolder: MyMainPackage\n",
      "\n",
      "\n",
      "the files are: \n",
      "\t File: myprogram.py\n",
      "\t File: mymodule.py\n",
      "\n",
      "\n",
      "currently looking at (folder)\n",
      "\n",
      "\n",
      "The subfolders are: \n",
      "\t subfolder: __pycache__\n",
      "\t subfolder: SubPackage\n",
      "\n",
      "\n",
      "the files are: \n",
      "\t File: __init__.py\n",
      "\t File: some_main_script.py\n",
      "\n",
      "\n",
      "currently looking at (folder)\n",
      "\n",
      "\n",
      "The subfolders are: \n",
      "\n",
      "\n",
      "the files are: \n",
      "\t File: some_main_script.cpython-36.pyc\n",
      "\t File: __init__.cpython-36.pyc\n",
      "\n",
      "\n",
      "currently looking at (folder)\n",
      "\n",
      "\n",
      "The subfolders are: \n",
      "\t subfolder: __pycache__\n",
      "\n",
      "\n",
      "the files are: \n",
      "\t File: __init__.py\n",
      "\t File: mysubscript.py\n",
      "\n",
      "\n",
      "currently looking at (folder)\n",
      "\n",
      "\n",
      "The subfolders are: \n",
      "\n",
      "\n",
      "the files are: \n",
      "\t File: mysubscript.cpython-36.pyc\n",
      "\t File: __init__.cpython-36.pyc\n",
      "\n",
      "\n",
      "currently looking at (folder)\n",
      "\n",
      "\n",
      "The subfolders are: \n",
      "\t subfolder: .ipynb_checkpoints\n",
      "\n",
      "\n",
      "the files are: \n",
      "\t File: 00-Overview-of-Sending-Emails.ipynb\n",
      "\t File: 01-Overview-of-Received-Emails.ipynb\n",
      "\t File: 02-Exercise-Ideas.ipynb\n",
      "\n",
      "\n",
      "currently looking at (folder)\n",
      "\n",
      "\n",
      "The subfolders are: \n",
      "\n",
      "\n",
      "the files are: \n",
      "\t File: 02-Exercise-Ideas-checkpoint.ipynb\n",
      "\t File: 01-Overview-of-Received-Emails-checkpoint.ipynb\n",
      "\t File: 00-Overview-of-Sending-Emails-checkpoint.ipynb\n",
      "\n",
      "\n",
      "currently looking at (folder)\n",
      "\n",
      "\n",
      "The subfolders are: \n",
      "\t subfolder: .ipynb_checkpoints\n",
      "\n",
      "\n",
      "the files are: \n",
      "\t File: 02-Chained Comparison Operators.ipynb\n",
      "\t File: 01-Comparison Operators.ipynb\n",
      "\n",
      "\n",
      "currently looking at (folder)\n",
      "\n",
      "\n",
      "The subfolders are: \n",
      "\n",
      "\n",
      "the files are: \n",
      "\t File: 01-Comparison Operators-checkpoint.ipynb\n",
      "\t File: 02-Chained Comparison Operators-checkpoint.ipynb\n",
      "\n",
      "\n",
      "currently looking at (folder)\n",
      "\n",
      "\n",
      "The subfolders are: \n",
      "\t subfolder: .ipynb_checkpoints\n",
      "\n",
      "\n",
      "the files are: \n",
      "\t File: 08-BONUS - With Statement Context Managers.ipynb\n",
      "\t File: 03-Advanced Sets.ipynb\n",
      "\t File: 06-Advanced Python Objects Test.ipynb\n",
      "\t File: 05-Advanced Lists.ipynb\n",
      "\t File: 01-Advanced Numbers.ipynb\n",
      "\t File: 04-Advanced Dictionaries.ipynb\n",
      "\t File: 02-Advanced Strings.ipynb\n",
      "\t File: 07-Advanced Python Objects Test - Solutions.ipynb\n",
      "\n",
      "\n",
      "currently looking at (folder)\n",
      "\n",
      "\n",
      "The subfolders are: \n",
      "\n",
      "\n",
      "the files are: \n",
      "\t File: 05-Advanced Lists-checkpoint.ipynb\n",
      "\t File: 01-Advanced Numbers-checkpoint.ipynb\n",
      "\t File: 03-Advanced Sets-checkpoint.ipynb\n",
      "\t File: 04-Advanced Dictionaries-checkpoint.ipynb\n",
      "\t File: 07-Advanced Python Objects Test - Solutions-checkpoint.ipynb\n",
      "\t File: 06-Advanced Python Objects Test-checkpoint.ipynb\n",
      "\t File: 02-Advanced Strings-checkpoint.ipynb\n",
      "\n",
      "\n",
      "currently looking at (folder)\n",
      "\n",
      "\n",
      "The subfolders are: \n",
      "\t subfolder: .ipynb_checkpoints\n",
      "\n",
      "\n",
      "the files are: \n",
      "\t File: 00-Milestone-2-Warmup-Project.ipynb\n",
      "\t File: 01-Milestone Project 2 - Assignment.ipynb\n",
      "\t File: 03-Milestone Project 2 - Complete Walkthrough Solution.ipynb\n",
      "\t File: 02-Milestone Project 2 - Walkthrough Steps Workbook.ipynb\n",
      "\n",
      "\n",
      "currently looking at (folder)\n",
      "\n",
      "\n",
      "The subfolders are: \n",
      "\n",
      "\n",
      "the files are: \n",
      "\t File: 03-Milestone Project 2 - Complete Walkthrough Solution-checkpoint.ipynb\n",
      "\t File: 02-Milestone Project 2 - Walkthrough Steps Workbook-checkpoint.ipynb\n",
      "\t File: 00-Milestone-2-Warmup-Project-checkpoint.ipynb\n",
      "\t File: 01-Milestone Project 2 - Assignment-checkpoint.ipynb\n",
      "\n",
      "\n",
      "currently looking at (folder)\n",
      "\n",
      "\n",
      "The subfolders are: \n",
      "\t subfolder: .ipynb_checkpoints\n",
      "\n",
      "\n",
      "the files are: \n",
      "\t File: word_matrix.png\n",
      "\t File: red_color.jpg\n",
      "\t File: 02-Image-Exercise-Solution.ipynb\n",
      "\t File: 00-Overview-of-Working-with-Images.ipynb\n",
      "\t File: blue_color.png\n",
      "\t File: pencils.jpg\n",
      "\t File: mask.png\n",
      "\t File: 01-Image-Exercise.ipynb\n",
      "\t File: purple.png\n",
      "\t File: example.jpg\n",
      "\n",
      "\n",
      "currently looking at (folder)\n",
      "\n",
      "\n",
      "The subfolders are: \n",
      "\n",
      "\n",
      "the files are: \n",
      "\t File: 02-Image-Exercise-Solution-checkpoint.ipynb\n",
      "\t File: 01-Image-Exercise-checkpoint.ipynb\n",
      "\t File: 00-Overview-of-Working-with-Images-checkpoint.ipynb\n",
      "\n",
      "\n",
      "currently looking at (folder)\n",
      "\n",
      "\n",
      "The subfolders are: \n",
      "\t subfolder: .ipynb_checkpoints\n",
      "\n",
      "\n",
      "the files are: \n",
      "\t File: 08-Built-in Functions Assessment Test.ipynb\n",
      "\t File: 01-Map.ipynb\n",
      "\t File: 06-all() and any().ipynb\n",
      "\t File: 05-Enumerate.ipynb\n",
      "\t File: 02-Reduce.ipynb\n",
      "\t File: 09-Built-in Functions Assessment Test - Solution.ipynb\n",
      "\t File: 04-Zip.ipynb\n",
      "\t File: 03-Filter.ipynb\n",
      "\t File: 07-Complex.ipynb\n",
      "\n",
      "\n",
      "currently looking at (folder)\n",
      "\n",
      "\n",
      "The subfolders are: \n",
      "\n",
      "\n",
      "the files are: \n",
      "\t File: 07-Complex-checkpoint.ipynb\n",
      "\t File: 05-Enumerate-checkpoint.ipynb\n",
      "\t File: 06-all() and any()-checkpoint.ipynb\n",
      "\t File: 01-Map-checkpoint.ipynb\n",
      "\t File: 03-Filter-checkpoint.ipynb\n",
      "\t File: 08-Built-in Functions Assessment Test-checkpoint.ipynb\n",
      "\t File: 09-Built-in Functions Assessment Test - Solution-checkpoint.ipynb\n",
      "\t File: 02-Reduce-checkpoint.ipynb\n",
      "\t File: 04-Zip-checkpoint.ipynb\n",
      "\n",
      "\n",
      "currently looking at (folder)\n",
      "\n",
      "\n",
      "The subfolders are: \n",
      "\t subfolder: .ipynb_checkpoints\n",
      "\n",
      "\n",
      "the files are: \n",
      "\t File: 00-Warm-Up-Project-Exercises.ipynb\n",
      "\t File: 02-Milestone Project 1 - Walkthrough Steps Workbook.ipynb\n",
      "\t File: 01-Milestone Project 1 - Assignment.ipynb\n",
      "\t File: 03-Milestone Project 1 - Complete Walkthrough Solution.ipynb\n",
      "\n",
      "\n",
      "currently looking at (folder)\n",
      "\n",
      "\n",
      "The subfolders are: \n",
      "\n",
      "\n",
      "the files are: \n",
      "\t File: 02-Milestone Project 1 - Walkthrough Steps Workbook-checkpoint.ipynb\n",
      "\t File: 01-Milestone Project 1 - Assignment-checkpoint.ipynb\n",
      "\t File: 03-Milestone Project 1 - Complete Walkthrough Solution-checkpoint.ipynb\n",
      "\t File: 00-Warm-Up-Project-Exercises-checkpoint.ipynb\n",
      "\n",
      "\n",
      "currently looking at (folder)\n",
      "\n",
      "\n",
      "The subfolders are: \n",
      "\t subfolder: .ipynb_checkpoints\n",
      "\n",
      "\n",
      "the files are: \n",
      "\t File: 04-OOP Challenge.ipynb\n",
      "\t File: 05-OOP Challenge - Solution.ipynb\n",
      "\t File: 03-Object Oriented Programming Homework - Solution.ipynb\n",
      "\t File: 02-Object Oriented Programming Homework.ipynb\n",
      "\t File: 01-Object Oriented Programming.ipynb\n",
      "\n",
      "\n",
      "currently looking at (folder)\n",
      "\n",
      "\n",
      "The subfolders are: \n",
      "\n",
      "\n",
      "the files are: \n",
      "\t File: 04-OOP Challenge-checkpoint.ipynb\n",
      "\t File: 01-Object Oriented Programming-checkpoint.ipynb\n",
      "\t File: 05-OOP Challenge - Solution-checkpoint.ipynb\n",
      "\t File: 02-Object Oriented Programming Homework-checkpoint.ipynb\n",
      "\t File: 01-Object Oriented Programming-Copy1-checkpoint.ipynb\n",
      "\t File: 03-Object Oriented Programming Homework - Solution-checkpoint.ipynb\n",
      "\n",
      "\n",
      "currently looking at (folder)\n",
      "\n",
      "\n",
      "The subfolders are: \n",
      "\n",
      "\n",
      "the files are: \n",
      "\t File: Untitled-checkpoint.ipynb\n",
      "\n",
      "\n",
      "currently looking at (folder)\n",
      "\n",
      "\n",
      "The subfolders are: \n",
      "\t subfolder: .ipynb_checkpoints\n",
      "\n",
      "\n",
      "the files are: \n",
      "\t File: 08-Files.ipynb\n",
      "\t File: 06-Tuples.ipynb\n",
      "\t File: 01-Numbers.ipynb\n",
      "\t File: 10-Objects and Data Structures Assessment Test-Solution.ipynb\n",
      "\t File: 02-Strings.ipynb\n",
      "\t File: 01-Variable Assignment.ipynb\n",
      "\t File: 05-Dictionaries.ipynb\n",
      "\t File: test.txt\n",
      "\t File: 09-Objects and Data Structures Assessment Test.ipynb\n",
      "\t File: 07-Sets and Booleans.ipynb\n",
      "\t File: 04-Lists.ipynb\n",
      "\t File: 03-Print Formatting with Strings.ipynb\n",
      "\n",
      "\n",
      "currently looking at (folder)\n",
      "\n",
      "\n",
      "The subfolders are: \n",
      "\n",
      "\n",
      "the files are: \n",
      "\t File: 08-Files-checkpoint.ipynb\n",
      "\t File: 03-Print Formatting with Strings-checkpoint.ipynb\n",
      "\t File: 01-Numbers-checkpoint.ipynb\n",
      "\t File: 05-Dictionaries-checkpoint.ipynb\n",
      "\t File: 01-Variable Assignment-checkpoint.ipynb\n",
      "\t File: 09-Objects and Data Structures Assessment Test-checkpoint.ipynb\n",
      "\t File: 07-Sets and Booleans-checkpoint.ipynb\n",
      "\t File: 06-Tuples-checkpoint.ipynb\n",
      "\t File: 02-Strings-checkpoint.ipynb\n",
      "\t File: 04-Lists-checkpoint.ipynb\n",
      "\t File: 10-Objects and Data Structures Assessment Test-Solution-checkpoint.ipynb\n",
      "\n",
      "\n",
      "currently looking at (folder)\n",
      "\n",
      "\n",
      "The subfolders are: \n",
      "\t subfolder: objects\n",
      "\t subfolder: info\n",
      "\t subfolder: logs\n",
      "\t subfolder: hooks\n",
      "\t subfolder: refs\n",
      "\n",
      "\n",
      "the files are: \n",
      "\t File: config\n",
      "\t File: HEAD\n",
      "\t File: description\n",
      "\t File: index\n",
      "\t File: packed-refs\n",
      "\n",
      "\n",
      "currently looking at (folder)\n",
      "\n",
      "\n",
      "The subfolders are: \n",
      "\t subfolder: pack\n",
      "\t subfolder: info\n",
      "\n",
      "\n",
      "the files are: \n",
      "\n",
      "\n",
      "currently looking at (folder)\n",
      "\n",
      "\n",
      "The subfolders are: \n",
      "\n",
      "\n",
      "the files are: \n",
      "\t File: pack-b49cf1cee263736b6df94c502de46b7105dbf68a.pack\n",
      "\t File: pack-b49cf1cee263736b6df94c502de46b7105dbf68a.idx\n",
      "\n",
      "\n",
      "currently looking at (folder)\n",
      "\n",
      "\n",
      "The subfolders are: \n",
      "\n",
      "\n",
      "the files are: \n",
      "\n",
      "\n",
      "currently looking at (folder)\n",
      "\n",
      "\n",
      "The subfolders are: \n",
      "\n",
      "\n",
      "the files are: \n",
      "\t File: exclude\n",
      "\n",
      "\n",
      "currently looking at (folder)\n",
      "\n",
      "\n",
      "The subfolders are: \n",
      "\t subfolder: refs\n",
      "\n",
      "\n",
      "the files are: \n",
      "\t File: HEAD\n",
      "\n",
      "\n",
      "currently looking at (folder)\n",
      "\n",
      "\n",
      "The subfolders are: \n",
      "\t subfolder: heads\n",
      "\t subfolder: remotes\n",
      "\n",
      "\n",
      "the files are: \n",
      "\n",
      "\n",
      "currently looking at (folder)\n",
      "\n",
      "\n",
      "The subfolders are: \n",
      "\n",
      "\n",
      "the files are: \n",
      "\t File: master\n",
      "\n",
      "\n",
      "currently looking at (folder)\n",
      "\n",
      "\n",
      "The subfolders are: \n",
      "\t subfolder: origin\n",
      "\n",
      "\n",
      "the files are: \n",
      "\n",
      "\n",
      "currently looking at (folder)\n",
      "\n",
      "\n",
      "The subfolders are: \n",
      "\n",
      "\n",
      "the files are: \n",
      "\t File: HEAD\n",
      "\n",
      "\n",
      "currently looking at (folder)\n",
      "\n",
      "\n",
      "The subfolders are: \n",
      "\n",
      "\n",
      "the files are: \n",
      "\t File: commit-msg.sample\n",
      "\t File: pre-rebase.sample\n",
      "\t File: pre-commit.sample\n",
      "\t File: applypatch-msg.sample\n",
      "\t File: fsmonitor-watchman.sample\n",
      "\t File: pre-receive.sample\n",
      "\t File: prepare-commit-msg.sample\n",
      "\t File: post-update.sample\n",
      "\t File: pre-merge-commit.sample\n",
      "\t File: pre-applypatch.sample\n",
      "\t File: pre-push.sample\n",
      "\t File: update.sample\n",
      "\n",
      "\n",
      "currently looking at (folder)\n",
      "\n",
      "\n",
      "The subfolders are: \n",
      "\t subfolder: heads\n",
      "\t subfolder: tags\n",
      "\t subfolder: remotes\n",
      "\n",
      "\n",
      "the files are: \n",
      "\n",
      "\n",
      "currently looking at (folder)\n",
      "\n",
      "\n",
      "The subfolders are: \n",
      "\n",
      "\n",
      "the files are: \n",
      "\t File: master\n",
      "\n",
      "\n",
      "currently looking at (folder)\n",
      "\n",
      "\n",
      "The subfolders are: \n",
      "\n",
      "\n",
      "the files are: \n",
      "\n",
      "\n",
      "currently looking at (folder)\n",
      "\n",
      "\n",
      "The subfolders are: \n",
      "\t subfolder: origin\n",
      "\n",
      "\n",
      "the files are: \n",
      "\n",
      "\n",
      "currently looking at (folder)\n",
      "\n",
      "\n",
      "The subfolders are: \n",
      "\n",
      "\n",
      "the files are: \n",
      "\t File: HEAD\n",
      "\n",
      "\n",
      "currently looking at (folder)\n",
      "\n",
      "\n",
      "The subfolders are: \n",
      "\t subfolder: Exercise_Files\n",
      "\t subfolder: .ipynb_checkpoints\n",
      "\n",
      "\n",
      "the files are: \n",
      "\t File: example.csv\n",
      "\t File: 01-Working-with-PDFs.ipynb\n",
      "\t File: 02-PDFs-Spreadsheets-Puzzle.ipynb\n",
      "\t File: 03-PDFs-Spreadsheets-Puzzle-Solution.ipynb\n",
      "\t File: 00-Working-with-CSV-Files.ipynb\n",
      "\t File: Some_BrandNew_Doc.pdf\n",
      "\t File: Some_new_file.pdf\n",
      "\t File: Working_Business_Proposal.pdf\n",
      "\t File: makeup_new.csv\n",
      "\t File: to_save_file.csv\n",
      "\t File: Some_New_Doc.pdf\n",
      "\n",
      "\n",
      "currently looking at (folder)\n",
      "\n",
      "\n",
      "The subfolders are: \n",
      "\n",
      "\n",
      "the files are: \n",
      "\t File: Find_the_Phone_Number.pdf\n",
      "\t File: find_the_link.csv\n",
      "\n",
      "\n",
      "currently looking at (folder)\n",
      "\n",
      "\n",
      "The subfolders are: \n",
      "\n",
      "\n",
      "the files are: \n",
      "\t File: 01-Working-with-PDFs-checkpoint.ipynb\n",
      "\t File: 02-PDFs-Spreadsheets-Puzzle-checkpoint.ipynb\n",
      "\t File: 00-Working-with-CSV-Files-checkpoint.ipynb\n",
      "\t File: 03-PDFs-Spreadsheets-Puzzle-Solution-checkpoint.ipynb\n",
      "\n",
      "\n",
      "currently looking at (folder)\n",
      "\n",
      "\n",
      "The subfolders are: \n",
      "\t subfolder: .ipynb_checkpoints\n",
      "\n",
      "\n",
      "the files are: \n",
      "\t File: 01-Decorators.ipynb\n",
      "\t File: 02-Decorators Homework.ipynb\n",
      "\n",
      "\n",
      "currently looking at (folder)\n",
      "\n",
      "\n",
      "The subfolders are: \n",
      "\n",
      "\n",
      "the files are: \n",
      "\t File: 01-Decorators-checkpoint.ipynb\n",
      "\t File: 02-Decorators Homework-checkpoint.ipynb\n",
      "\n",
      "\n",
      "currently looking at (folder)\n",
      "\n",
      "\n",
      "The subfolders are: \n",
      "\t subfolder: .ipynb_checkpoints\n",
      "\n",
      "\n",
      "the files are: \n",
      "\t File: 08-Statements Assessment Test - Solutions.ipynb\n",
      "\t File: 04-while Loops.ipynb\n",
      "\t File: 07-Statements Assessment Test.ipynb\n",
      "\t File: 05-Useful-Operators.ipynb\n",
      "\t File: 06-List Comprehensions.ipynb\n",
      "\t File: 10-Guessing Game Challenge - Solution.ipynb\n",
      "\t File: 09-Guessing Game Challenge.ipynb\n",
      "\t File: 01-Introduction to Python Statements.ipynb\n",
      "\t File: 03-for Loops.ipynb\n",
      "\t File: 02-if, elif, and else Statements.ipynb\n",
      "\n",
      "\n",
      "currently looking at (folder)\n",
      "\n",
      "\n",
      "The subfolders are: \n",
      "\n",
      "\n",
      "the files are: \n",
      "\t File: 02-if, elif, and else Statements-checkpoint.ipynb\n",
      "\t File: 07-Statements Assessment Test-checkpoint.ipynb\n",
      "\t File: 01-Introduction to Python Statements-checkpoint.ipynb\n",
      "\t File: 06-List Comprehensions-checkpoint.ipynb\n",
      "\t File: 05-range()-checkpoint.ipynb\n",
      "\t File: 05-Useful-Operators-checkpoint.ipynb\n",
      "\t File: 08-Statements Assessment Test - Solutions-checkpoint.ipynb\n",
      "\t File: 04-while Loops-checkpoint.ipynb\n",
      "\t File: 03-for Loops-checkpoint.ipynb\n",
      "\t File: 09-Guessing Game Challenge-checkpoint.ipynb\n",
      "\t File: 10-Guessing Game Challenge - Solution-checkpoint.ipynb\n",
      "\n",
      "\n",
      "currently looking at (folder)\n",
      "\n",
      "\n",
      "The subfolders are: \n",
      "\t subfolder: .ipynb_checkpoints\n",
      "\n",
      "\n",
      "the files are: \n",
      "\t File: 02-Web-Scraping-Exercise-Solutions.ipynb\n",
      "\t File: 00-Guide-to-Web-Scraping.ipynb\n",
      "\t File: my_new_file_name.jpg\n",
      "\t File: 01-Web-Scraping-Exercises.ipynb\n",
      "\n",
      "\n",
      "currently looking at (folder)\n",
      "\n",
      "\n",
      "The subfolders are: \n",
      "\n",
      "\n",
      "the files are: \n",
      "\t File: 00-Guide-to-Web-Scraping-checkpoint.ipynb\n",
      "\t File: 01-Web-Scraping-Exercises-checkpoint.ipynb\n",
      "\t File: 02-Web-Scraping-Exercise-Solutions-checkpoint.ipynb\n",
      "\n",
      "\n",
      "currently looking at (folder)\n",
      "\n",
      "\n",
      "The subfolders are: \n",
      "\n",
      "\n",
      "the files are: \n",
      "\t File: Milestone Project 1 - Tic Tac Toe-checkpoint.ipynb\n",
      "\t File: Section 4-checkpoint.ipynb\n",
      "\t File: Milestone Project 2 - Black Jack-checkpoint.ipynb\n",
      "\t File: Section 10-checkpoint.ipynb\n",
      "\t File: Section 14-checkpoint.ipynb\n",
      "\t File: Simple War Game-checkpoint.ipynb\n",
      "\t File: Section 13-checkpoint.ipynb\n",
      "\t File: Section 8-checkpoint.ipynb\n",
      "\t File: Section 12-checkpoint.ipynb\n",
      "\t File: Section 3-checkpoint.ipynb\n",
      "\t File: Section 7-checkpoint.ipynb\n",
      "\n",
      "\n",
      "currently looking at (folder)\n",
      "\n",
      "\n",
      "The subfolders are: \n",
      "\t subfolder: objects\n",
      "\t subfolder: info\n",
      "\t subfolder: logs\n",
      "\t subfolder: hooks\n",
      "\t subfolder: refs\n",
      "\n",
      "\n",
      "the files are: \n",
      "\t File: ORIG_HEAD\n",
      "\t File: config\n",
      "\t File: HEAD\n",
      "\t File: description\n",
      "\t File: index\n",
      "\t File: COMMIT_EDITMSG\n",
      "\t File: FETCH_HEAD\n",
      "\n",
      "\n",
      "currently looking at (folder)\n",
      "\n",
      "\n",
      "The subfolders are: \n",
      "\t subfolder: 3e\n",
      "\t subfolder: 9e\n",
      "\t subfolder: 32\n",
      "\t subfolder: 35\n",
      "\t subfolder: 3c\n",
      "\t subfolder: 51\n",
      "\t subfolder: 0b\n",
      "\t subfolder: 60\n",
      "\t subfolder: 5f\n",
      "\t subfolder: 05\n",
      "\t subfolder: 9d\n",
      "\t subfolder: ad\n",
      "\t subfolder: eb\n",
      "\t subfolder: c7\n",
      "\t subfolder: ca\n",
      "\t subfolder: fb\n",
      "\t subfolder: 4e\n",
      "\t subfolder: 18\n",
      "\t subfolder: pack\n",
      "\t subfolder: 45\n",
      "\t subfolder: 7e\n",
      "\t subfolder: 6e\n",
      "\t subfolder: 5d\n",
      "\t subfolder: info\n",
      "\t subfolder: 96\n",
      "\t subfolder: 6c\n",
      "\t subfolder: 0a\n",
      "\t subfolder: 64\n",
      "\t subfolder: d4\n",
      "\t subfolder: b8\n",
      "\t subfolder: af\n",
      "\t subfolder: b0\n",
      "\t subfolder: b9\n",
      "\t subfolder: fa\n",
      "\t subfolder: ce\n",
      "\t subfolder: 2c\n",
      "\t subfolder: 41\n",
      "\t subfolder: 8c\n",
      "\t subfolder: 2b\n",
      "\t subfolder: 13\n",
      "\t subfolder: 25\n",
      "\n",
      "\n",
      "the files are: \n",
      "\n",
      "\n",
      "currently looking at (folder)\n",
      "\n",
      "\n",
      "The subfolders are: \n",
      "\n",
      "\n",
      "the files are: \n",
      "\t File: 8225384f469c6f1f4368f987685dea5d66569b\n",
      "\t File: 9ced54c97b83790db9c31df4a1e70e4a313150\n",
      "\n",
      "\n",
      "currently looking at (folder)\n",
      "\n",
      "\n",
      "The subfolders are: \n",
      "\n",
      "\n",
      "the files are: \n",
      "\t File: cdf2a0fc7484dc2e990eb24da1bce8ed760f8c\n",
      "\n",
      "\n",
      "currently looking at (folder)\n",
      "\n",
      "\n",
      "The subfolders are: \n",
      "\n",
      "\n",
      "the files are: \n",
      "\t File: 972086f9642f9e44021a3eaa2eda1a9370b8a0\n",
      "\n",
      "\n",
      "currently looking at (folder)\n",
      "\n",
      "\n",
      "The subfolders are: \n",
      "\n",
      "\n",
      "the files are: \n",
      "\t File: e2c2e89d313e7e9a0b27b91f7b522fd3a979c1\n",
      "\n",
      "\n",
      "currently looking at (folder)\n",
      "\n",
      "\n",
      "The subfolders are: \n",
      "\n",
      "\n",
      "the files are: \n",
      "\t File: 4e19fbcbf67646d4f56045f15e8a469e292b59\n",
      "\n",
      "\n",
      "currently looking at (folder)\n",
      "\n",
      "\n",
      "The subfolders are: \n",
      "\n",
      "\n",
      "the files are: \n",
      "\t File: 7bb4378e294c7ce83e5d0f0b0585ed5d2e4ca8\n",
      "\n",
      "\n",
      "currently looking at (folder)\n",
      "\n",
      "\n",
      "The subfolders are: \n",
      "\n",
      "\n",
      "the files are: \n",
      "\t File: 27635cd26ed2a0083857dc5eaf641e451b7619\n",
      "\n",
      "\n",
      "currently looking at (folder)\n",
      "\n",
      "\n",
      "The subfolders are: \n",
      "\n",
      "\n",
      "the files are: \n",
      "\t File: a7d45b452a5c2c251f11792bf57725c4379aa5\n",
      "\n",
      "\n",
      "currently looking at (folder)\n",
      "\n",
      "\n",
      "The subfolders are: \n",
      "\n",
      "\n",
      "the files are: \n",
      "\t File: 7fd109d90662291f33682ae783c997867abd80\n",
      "\n",
      "\n",
      "currently looking at (folder)\n",
      "\n",
      "\n",
      "The subfolders are: \n",
      "\n",
      "\n",
      "the files are: \n",
      "\t File: 17f7504c33b2207eae80a5fcc3d590a805f983\n",
      "\n",
      "\n",
      "currently looking at (folder)\n",
      "\n",
      "\n",
      "The subfolders are: \n",
      "\n",
      "\n",
      "the files are: \n",
      "\t File: aa57549fdb46daa937b562100ffa2e2d849cab\n",
      "\n",
      "\n",
      "currently looking at (folder)\n",
      "\n",
      "\n",
      "The subfolders are: \n",
      "\n",
      "\n",
      "the files are: \n",
      "\t File: b916309e49f7521968b5523e4612bb0ccdb9d5\n",
      "\t File: 026d118de01d766fa9cbca831dcd37c224fd08\n",
      "\n",
      "\n",
      "currently looking at (folder)\n",
      "\n",
      "\n",
      "The subfolders are: \n",
      "\n",
      "\n",
      "the files are: \n",
      "\t File: 65fda20b2550b6ea493aa7f99c0f1dafeccd58\n",
      "\t File: 3a6049f28d23875ad6ad0617483048605e64f8\n",
      "\n",
      "\n",
      "currently looking at (folder)\n",
      "\n",
      "\n",
      "The subfolders are: \n",
      "\n",
      "\n",
      "the files are: \n",
      "\t File: 962cad191714badf40cf9dd1b754505128cc75\n",
      "\n",
      "\n",
      "currently looking at (folder)\n",
      "\n",
      "\n",
      "The subfolders are: \n",
      "\n",
      "\n",
      "the files are: \n",
      "\t File: ef11af3875899120f843f2e26eef59e0cb8894\n",
      "\t File: bf54469a12582246653462ce2baa627b313604\n",
      "\n",
      "\n",
      "currently looking at (folder)\n",
      "\n",
      "\n",
      "The subfolders are: \n",
      "\n",
      "\n",
      "the files are: \n",
      "\t File: 98267fee65daa3fee4ba777fc3c907e33d4195\n",
      "\n",
      "\n",
      "currently looking at (folder)\n",
      "\n",
      "\n",
      "The subfolders are: \n",
      "\n",
      "\n",
      "the files are: \n",
      "\t File: b4fa81141281fd04958b4a0515a4ee5eda7ef3\n",
      "\n",
      "\n",
      "currently looking at (folder)\n",
      "\n",
      "\n",
      "The subfolders are: \n",
      "\n",
      "\n",
      "the files are: \n",
      "\t File: 5361a3230ff05994d3d5ab77d44bfdcf431369\n",
      "\n",
      "\n",
      "currently looking at (folder)\n",
      "\n",
      "\n",
      "The subfolders are: \n",
      "\n",
      "\n",
      "the files are: \n",
      "\n",
      "\n",
      "currently looking at (folder)\n",
      "\n",
      "\n",
      "The subfolders are: \n",
      "\n",
      "\n",
      "the files are: \n",
      "\t File: c8ad9dad36a5d370cf79e8efb436ac5c28b57e\n",
      "\n",
      "\n",
      "currently looking at (folder)\n",
      "\n",
      "\n",
      "The subfolders are: \n",
      "\n",
      "\n",
      "the files are: \n",
      "\t File: d3b87a6fd262406a8e3877d9168c18940c161b\n",
      "\n",
      "\n",
      "currently looking at (folder)\n",
      "\n",
      "\n",
      "The subfolders are: \n",
      "\n",
      "\n",
      "the files are: \n",
      "\t File: 901f901145acffe331ad188fb1cd189d11474f\n",
      "\n",
      "\n",
      "currently looking at (folder)\n",
      "\n",
      "\n",
      "The subfolders are: \n",
      "\n",
      "\n",
      "the files are: \n",
      "\t File: 5a7af0cfbb47f2ce6474020952db499b1d5ea8\n",
      "\t File: e4f70ca2ee43fad78bca9167cdd9d0fd74be2a\n",
      "\n",
      "\n",
      "currently looking at (folder)\n",
      "\n",
      "\n",
      "The subfolders are: \n",
      "\n",
      "\n",
      "the files are: \n",
      "\n",
      "\n",
      "currently looking at (folder)\n",
      "\n",
      "\n",
      "The subfolders are: \n",
      "\n",
      "\n",
      "the files are: \n",
      "\t File: 00334a96d1a813b82d9d5d5bbc6aebce18ec9b\n",
      "\n",
      "\n",
      "currently looking at (folder)\n",
      "\n",
      "\n",
      "The subfolders are: \n",
      "\n",
      "\n",
      "the files are: \n",
      "\t File: cbe15de49bcd97cd36ba5a0ad7a2be2d13a97c\n",
      "\n",
      "\n",
      "currently looking at (folder)\n",
      "\n",
      "\n",
      "The subfolders are: \n",
      "\n",
      "\n",
      "the files are: \n",
      "\t File: 2d3248c49a3555abc94ee3c3aba8da7f2f5b52\n",
      "\n",
      "\n",
      "currently looking at (folder)\n",
      "\n",
      "\n",
      "The subfolders are: \n",
      "\n",
      "\n",
      "the files are: \n",
      "\t File: d1fba638242ad912a7156e77f1ca0e9039bd75\n",
      "\n",
      "\n",
      "currently looking at (folder)\n",
      "\n",
      "\n",
      "The subfolders are: \n",
      "\n",
      "\n",
      "the files are: \n",
      "\t File: b038b790972501760309c0e4c9715f91616c34\n",
      "\n",
      "\n",
      "currently looking at (folder)\n",
      "\n",
      "\n",
      "The subfolders are: \n",
      "\n",
      "\n",
      "the files are: \n",
      "\t File: fa01eed8fc279bc0316706dd55e8464fbbb237\n",
      "\n",
      "\n",
      "currently looking at (folder)\n",
      "\n",
      "\n",
      "The subfolders are: \n",
      "\n",
      "\n",
      "the files are: \n",
      "\t File: f7727ccc6625e139e9ff437f3bf635d683b841\n",
      "\n",
      "\n",
      "currently looking at (folder)\n",
      "\n",
      "\n",
      "The subfolders are: \n",
      "\n",
      "\n",
      "the files are: \n",
      "\t File: dadb9536fd9147f7b1af6a8fb96fc84753ccd3\n",
      "\n",
      "\n",
      "currently looking at (folder)\n",
      "\n",
      "\n",
      "The subfolders are: \n",
      "\n",
      "\n",
      "the files are: \n",
      "\t File: d4415a6fa78da077c70a752506eb03ec59fc43\n",
      "\n",
      "\n",
      "currently looking at (folder)\n",
      "\n",
      "\n",
      "The subfolders are: \n",
      "\n",
      "\n",
      "the files are: \n",
      "\t File: 767985e3daf84e2ae1aba3d230f4d331b49a6b\n",
      "\n",
      "\n",
      "currently looking at (folder)\n",
      "\n",
      "\n",
      "The subfolders are: \n",
      "\n",
      "\n",
      "the files are: \n",
      "\t File: 1e376434c46ca8470e3a0e848abf8d601a6396\n",
      "\n",
      "\n",
      "currently looking at (folder)\n",
      "\n",
      "\n",
      "The subfolders are: \n",
      "\n",
      "\n",
      "the files are: \n",
      "\t File: 98fc6a5e9d8535b5b1288e3a100cbbedb6c86a\n",
      "\n",
      "\n",
      "currently looking at (folder)\n",
      "\n",
      "\n",
      "The subfolders are: \n",
      "\n",
      "\n",
      "the files are: \n",
      "\t File: dfbeb88cee905121c4e1f6a2b44717177228a7\n",
      "\n",
      "\n",
      "currently looking at (folder)\n",
      "\n",
      "\n",
      "The subfolders are: \n",
      "\n",
      "\n",
      "the files are: \n",
      "\t File: 972ddf41806eff0dc14822b7613fb9618e8866\n",
      "\n",
      "\n",
      "currently looking at (folder)\n",
      "\n",
      "\n",
      "The subfolders are: \n",
      "\n",
      "\n",
      "the files are: \n",
      "\t File: 2a21d30f635d46d4af59fbcbe1e328696e3c45\n",
      "\n",
      "\n",
      "currently looking at (folder)\n",
      "\n",
      "\n",
      "The subfolders are: \n",
      "\n",
      "\n",
      "the files are: \n",
      "\t File: 33a909a442e1f1c7155113a2ae21870c2bc749\n",
      "\n",
      "\n",
      "currently looking at (folder)\n",
      "\n",
      "\n",
      "The subfolders are: \n",
      "\n",
      "\n",
      "the files are: \n",
      "\t File: 9321f9f30ad90877036b54b59b8fcee22c0fe4\n",
      "\n",
      "\n",
      "currently looking at (folder)\n",
      "\n",
      "\n",
      "The subfolders are: \n",
      "\n",
      "\n",
      "the files are: \n",
      "\t File: exclude\n",
      "\n",
      "\n",
      "currently looking at (folder)\n",
      "\n",
      "\n",
      "The subfolders are: \n",
      "\t subfolder: refs\n",
      "\n",
      "\n",
      "the files are: \n",
      "\t File: HEAD\n",
      "\n",
      "\n",
      "currently looking at (folder)\n",
      "\n",
      "\n",
      "The subfolders are: \n",
      "\t subfolder: heads\n",
      "\t subfolder: remotes\n",
      "\n",
      "\n",
      "the files are: \n",
      "\n",
      "\n",
      "currently looking at (folder)\n",
      "\n",
      "\n",
      "The subfolders are: \n",
      "\n",
      "\n",
      "the files are: \n",
      "\t File: master\n",
      "\n",
      "\n",
      "currently looking at (folder)\n",
      "\n",
      "\n",
      "The subfolders are: \n",
      "\t subfolder: origin\n",
      "\n",
      "\n",
      "the files are: \n",
      "\n",
      "\n",
      "currently looking at (folder)\n",
      "\n",
      "\n",
      "The subfolders are: \n",
      "\n",
      "\n",
      "the files are: \n",
      "\t File: master\n",
      "\n",
      "\n",
      "currently looking at (folder)\n",
      "\n",
      "\n",
      "The subfolders are: \n",
      "\n",
      "\n",
      "the files are: \n",
      "\t File: commit-msg.sample\n",
      "\t File: pre-rebase.sample\n",
      "\t File: pre-commit.sample\n",
      "\t File: applypatch-msg.sample\n",
      "\t File: fsmonitor-watchman.sample\n",
      "\t File: pre-receive.sample\n",
      "\t File: prepare-commit-msg.sample\n",
      "\t File: post-update.sample\n",
      "\t File: pre-merge-commit.sample\n",
      "\t File: pre-applypatch.sample\n",
      "\t File: pre-push.sample\n",
      "\t File: update.sample\n",
      "\n",
      "\n",
      "currently looking at (folder)\n",
      "\n",
      "\n",
      "The subfolders are: \n",
      "\t subfolder: heads\n",
      "\t subfolder: tags\n",
      "\t subfolder: remotes\n",
      "\n",
      "\n",
      "the files are: \n",
      "\n",
      "\n",
      "currently looking at (folder)\n",
      "\n",
      "\n",
      "The subfolders are: \n",
      "\n",
      "\n",
      "the files are: \n",
      "\t File: master\n",
      "\n",
      "\n",
      "currently looking at (folder)\n",
      "\n",
      "\n",
      "The subfolders are: \n",
      "\n",
      "\n",
      "the files are: \n",
      "\n",
      "\n",
      "currently looking at (folder)\n",
      "\n",
      "\n",
      "The subfolders are: \n",
      "\t subfolder: origin\n",
      "\n",
      "\n",
      "the files are: \n",
      "\n",
      "\n",
      "currently looking at (folder)\n",
      "\n",
      "\n",
      "The subfolders are: \n",
      "\n",
      "\n",
      "the files are: \n",
      "\t File: master\n",
      "\n",
      "\n"
     ]
    }
   ],
   "source": [
    "for folder, sub_folders, files in os.walk(file_path):\n",
    "    print(f\"currently looking at (folder)\")\n",
    "    print('\\n')\n",
    "    print('The subfolders are: ')\n",
    "    for sub_fold in sub_folders:\n",
    "        print(f\"\\t subfolder: {sub_fold}\")\n",
    "    \n",
    "    print('\\n')\n",
    "    print('the files are: ')\n",
    "    for f in files:\n",
    "        print(f\"\\t File: {f}\")\n",
    "    print('\\n')"
   ]
  },
  {
   "cell_type": "markdown",
   "metadata": {},
   "source": [
    "### Datetile Module"
   ]
  },
  {
   "cell_type": "code",
   "execution_count": 73,
   "metadata": {},
   "outputs": [],
   "source": [
    "import datetime"
   ]
  },
  {
   "cell_type": "code",
   "execution_count": null,
   "metadata": {},
   "outputs": [],
   "source": [
    "mytime = datetime.time()"
   ]
  }
 ],
 "metadata": {
  "kernelspec": {
   "display_name": "Python 3",
   "language": "python",
   "name": "python3"
  },
  "language_info": {
   "codemirror_mode": {
    "name": "ipython",
    "version": 3
   },
   "file_extension": ".py",
   "mimetype": "text/x-python",
   "name": "python",
   "nbconvert_exporter": "python",
   "pygments_lexer": "ipython3",
   "version": "3.7.3"
  }
 },
 "nbformat": 4,
 "nbformat_minor": 2
}
