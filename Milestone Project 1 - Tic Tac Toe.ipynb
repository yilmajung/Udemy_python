{
 "cells": [
  {
   "cell_type": "code",
   "execution_count": 1,
   "metadata": {},
   "outputs": [],
   "source": [
    "# Import clear_output from IPython.display\n",
    "\n",
    "from IPython.display import clear_output"
   ]
  },
  {
   "cell_type": "code",
   "execution_count": 2,
   "metadata": {},
   "outputs": [],
   "source": [
    "# Function printing out a board\n",
    "def display_board(board):\n",
    "    \n",
    "    # Clear the previous output first\n",
    "    clear_output()\n",
    "    \n",
    "    # Print out a board\n",
    "    print(board[7] + '|' + board[8] + '|' + board[9])\n",
    "    print(board[4] + '|' + board[5] + '|' + board[6])\n",
    "    print(board[1] + '|' + board[2] + '|' + board[3])"
   ]
  },
  {
   "cell_type": "code",
   "execution_count": 3,
   "metadata": {},
   "outputs": [
    {
     "name": "stdout",
     "output_type": "stream",
     "text": [
      "X|O|X\n",
      "O|X|O\n",
      "X|O|X\n"
     ]
    }
   ],
   "source": [
    "# Test display_board function\n",
    "test_board = ['#','X','O','X','O','X','O','X','O','X']\n",
    "display_board(test_board)"
   ]
  },
  {
   "cell_type": "code",
   "execution_count": 4,
   "metadata": {},
   "outputs": [],
   "source": [
    "# Function asking a player input and their marker\n",
    "def player_input():\n",
    "\n",
    "    choice = 'wrong'\n",
    "    \n",
    "    # Keep asking Player 1 to choose X or O\n",
    "    while choice not in ['X','O']:\n",
    "        choice = input(\"Please choose player 1's marker (O or X).\").upper()\n",
    "        \n",
    "        if choice not in ['X','O']:\n",
    "            print(\"Sorry, invalid choice!\")\n",
    "    \n",
    "    # Assign player2 the opposite marker\n",
    "    player1 = choice\n",
    "\n",
    "    if player1 == 'O':\n",
    "        player2 = 'X'\n",
    "    else:\n",
    "        player2 = 'O'\n",
    "            \n",
    "    return (player1, player2)"
   ]
  },
  {
   "cell_type": "code",
   "execution_count": 5,
   "metadata": {},
   "outputs": [
    {
     "name": "stdout",
     "output_type": "stream",
     "text": [
      "Please choose player 1's marker (O or X).\n",
      "Sorry, invalid choice!\n",
      "Please choose player 1's marker (O or X).\n",
      "Sorry, invalid choice!\n",
      "Please choose player 1's marker (O or X).o\n"
     ]
    },
    {
     "data": {
      "text/plain": [
       "('O', 'X')"
      ]
     },
     "execution_count": 5,
     "metadata": {},
     "output_type": "execute_result"
    }
   ],
   "source": [
    "# Test player_input function\n",
    "player_input()"
   ]
  },
  {
   "cell_type": "code",
   "execution_count": 6,
   "metadata": {},
   "outputs": [],
   "source": [
    "# Function taking in the board list object, a marker, and a desired number and assigning it to the board.\n",
    "def place_marker(board, marker, position):\n",
    "    \n",
    "    board[position] = marker"
   ]
  },
  {
   "cell_type": "code",
   "execution_count": 7,
   "metadata": {},
   "outputs": [
    {
     "name": "stdout",
     "output_type": "stream",
     "text": [
      "X|O|X\n",
      "O|X|O\n",
      "X|$|X\n"
     ]
    }
   ],
   "source": [
    "# Test place_marker function\n",
    "place_marker(test_board, '$', 2)\n",
    "display_board(test_board)"
   ]
  },
  {
   "cell_type": "code",
   "execution_count": 8,
   "metadata": {},
   "outputs": [],
   "source": [
    "# Function taking in a board and a mark and then checks to see if that mark has won\n",
    "\n",
    "def win_check(board, mark):\n",
    "    \n",
    "    return ((board[1] == board[2] == board[3] == mark) or\n",
    "    (board[4] == board[5] == board[6] == mark) or\n",
    "    (board[7] == board[8] == board[9] == mark) or\n",
    "    (board[1] == board[4] == board[7] == mark) or\n",
    "    (board[2] == board[5] == board[8] == mark) or\n",
    "    (board[3] == board[6] == board[9] == mark) or\n",
    "    (board[1] == board[5] == board[9] == mark) or\n",
    "    (board[3] == board[5] == board[7] == mark))"
   ]
  },
  {
   "cell_type": "code",
   "execution_count": 9,
   "metadata": {},
   "outputs": [
    {
     "name": "stdout",
     "output_type": "stream",
     "text": [
      "X|O|X\n",
      "O|X|O\n",
      "X|$|X\n"
     ]
    },
    {
     "data": {
      "text/plain": [
       "True"
      ]
     },
     "execution_count": 9,
     "metadata": {},
     "output_type": "execute_result"
    }
   ],
   "source": [
    "# Test win_check function\n",
    "display_board(test_board)\n",
    "win_check(test_board, 'X')"
   ]
  },
  {
   "cell_type": "code",
   "execution_count": 10,
   "metadata": {},
   "outputs": [],
   "source": [
    "# Function that uses the random module to randomly decide which player first\n",
    "import random\n",
    "\n",
    "def choose_first():\n",
    "    \n",
    "    flip = random.randint(0,1)\n",
    "    \n",
    "    if flip == 0:\n",
    "        return 'Player 1'\n",
    "    else:\n",
    "        return 'Player 2'"
   ]
  },
  {
   "cell_type": "code",
   "execution_count": 11,
   "metadata": {},
   "outputs": [],
   "source": [
    "# Function returning a boolean indicating whether a space on the board is freely available\n",
    "def space_check(board, position):\n",
    "    \n",
    "    return board[position] == ''"
   ]
  },
  {
   "cell_type": "code",
   "execution_count": 12,
   "metadata": {},
   "outputs": [],
   "source": [
    "# Function to check if the board is full and returns a boolean value\n",
    "def full_board_check(board):\n",
    "    for i in range(1,10):\n",
    "        if space_check(board,i):\n",
    "            return False\n",
    "\n",
    "    return True"
   ]
  },
  {
   "cell_type": "code",
   "execution_count": 13,
   "metadata": {},
   "outputs": [],
   "source": [
    "# Function to ask for a player's next position\n",
    "def player_choice(board):\n",
    "    \n",
    "    position = 0\n",
    "    \n",
    "    while position not in [1,2,3,4,5,6,7,8,9] or not space_check(board,position):\n",
    "        position = int(input('Choose a position (1-9): '))\n",
    "        \n",
    "    return position"
   ]
  },
  {
   "cell_type": "code",
   "execution_count": 14,
   "metadata": {},
   "outputs": [],
   "source": [
    "# Function to ask players if they want to play again\n",
    "def replay():\n",
    "    \n",
    "    choice = ''\n",
    "    \n",
    "    while choice not in ['Y','N']:\n",
    "        choice = input(\"Do you want to replay? (Y or N)\").upper()\n",
    "        \n",
    "        if choice not in ['Y','N']:\n",
    "            print(\"Sorry, invalid choice!\")\n",
    "\n",
    "    if choice == 'Y':\n",
    "        return True\n",
    "    else:\n",
    "        return False"
   ]
  },
  {
   "cell_type": "code",
   "execution_count": 19,
   "metadata": {},
   "outputs": [
    {
     "name": "stdout",
     "output_type": "stream",
     "text": [
      "X|O|X\n",
      "O|X|O\n",
      "O|X|O\n",
      "Tie game!\n",
      "Do you want to replay? (Y or N)n\n"
     ]
    }
   ],
   "source": [
    "print('Welcome to Tic Tac Toe!')\n",
    "\n",
    "# While loop to keep running the game\n",
    "while True:\n",
    "    \n",
    "    # Play the game\n",
    "    # Set up\n",
    "    the_board = ['']*10\n",
    "    player1_marker, player2_marker = player_input()\n",
    "    \n",
    "    turn = choose_first()\n",
    "    print(turn + \" will go first!\")\n",
    "    \n",
    "    play_game = input('Ready to play (Y or N)? ').upper()\n",
    "    \n",
    "    if play_game == 'Y':\n",
    "        game_on = True\n",
    "    else:\n",
    "        game_on = False\n",
    "        \n",
    "    # Game play\n",
    "    while game_on:\n",
    "        if turn == 'Player 1':\n",
    "            \n",
    "            # Show the board\n",
    "            display_board(the_board)\n",
    "            \n",
    "            # Choose a position\n",
    "            position = player_choice(the_board)\n",
    "            \n",
    "            # Place the marker on the position\n",
    "            place_marker(the_board, player1_marker, position)\n",
    "            \n",
    "            # Check if they won\n",
    "            if win_check(the_board,player1_marker):\n",
    "                display_board(the_board)\n",
    "                print('Player 1 has won!')\n",
    "                game_on = False\n",
    "            else:\n",
    "                if full_board_check(the_board):\n",
    "                    display_board(the_board)\n",
    "                    print('Tie game!')\n",
    "                    break\n",
    "                else:\n",
    "                    turn = 'Player 2'\n",
    "        else:\n",
    "            # Show the board\n",
    "            display_board(the_board)\n",
    "            \n",
    "            # Choose a position\n",
    "            position = player_choice(the_board)\n",
    "            \n",
    "            # Place the marker on the position\n",
    "            place_marker(the_board, player2_marker, position)\n",
    "            \n",
    "            # Check if they won\n",
    "            if win_check(the_board,player2_marker):\n",
    "                display_board(the_board)\n",
    "                print('Player 2 has won!')\n",
    "                game_on = False\n",
    "            else:\n",
    "                if full_board_check(the_board):\n",
    "                    display_board(the_board)\n",
    "                    print('Tie game!')\n",
    "                    break\n",
    "                else:\n",
    "                    turn = 'Player 1'\n",
    "\n",
    "    # Break out of the while loop on replay()                 \n",
    "    if not replay():\n",
    "        break"
   ]
  },
  {
   "cell_type": "code",
   "execution_count": null,
   "metadata": {},
   "outputs": [],
   "source": []
  }
 ],
 "metadata": {
  "kernelspec": {
   "display_name": "Python 3",
   "language": "python",
   "name": "python3"
  },
  "language_info": {
   "codemirror_mode": {
    "name": "ipython",
    "version": 3
   },
   "file_extension": ".py",
   "mimetype": "text/x-python",
   "name": "python",
   "nbconvert_exporter": "python",
   "pygments_lexer": "ipython3",
   "version": "3.7.3"
  }
 },
 "nbformat": 4,
 "nbformat_minor": 2
}
